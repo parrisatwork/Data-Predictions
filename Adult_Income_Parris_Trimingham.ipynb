{
  "nbformat": 4,
  "nbformat_minor": 0,
  "metadata": {
    "colab": {
      "provenance": [],
      "mount_file_id": "11gpIzos7iQORjzjRKnxJec3c0hDMJe38",
      "authorship_tag": "ABX9TyNq7wZp2Pf6eYXYmPFBnhCg",
      "include_colab_link": true
    },
    "kernelspec": {
      "name": "python3",
      "display_name": "Python 3"
    },
    "language_info": {
      "name": "python"
    }
  },
  "cells": [
    {
      "cell_type": "markdown",
      "metadata": {
        "id": "view-in-github",
        "colab_type": "text"
      },
      "source": [
        "<a href=\"https://colab.research.google.com/github/parrisatwork/Data-Predictions/blob/main/Adult_Income_Parris_Trimingham.ipynb\" target=\"_parent\"><img src=\"https://colab.research.google.com/assets/colab-badge.svg\" alt=\"Open In Colab\"/></a>"
      ]
    },
    {
      "cell_type": "markdown",
      "source": [
        "# **Adult Income**"
      ],
      "metadata": {
        "id": "KeCQ0J-Zrv1X"
      }
    },
    {
      "cell_type": "markdown",
      "source": [
        "- **Author:** Parris Trimingham"
      ],
      "metadata": {
        "id": "F53ZBf9Ar3jl"
      }
    },
    {
      "cell_type": "markdown",
      "source": [
        "## **Project Overview**"
      ],
      "metadata": {
        "id": "IkeAaI7sr7MT"
      }
    },
    {
      "cell_type": "markdown",
      "source": [
        "## Data Dictionary"
      ],
      "metadata": {
        "id": "MTq9UfDdr_vz"
      }
    },
    {
      "cell_type": "markdown",
      "source": [
        "## **Imports**"
      ],
      "metadata": {
        "id": "IdtcEVBdsWk_"
      }
    },
    {
      "cell_type": "code",
      "source": [
        "#Import libraries\n",
        "from sklearn.preprocessing import StandardScaler, OneHotEncoder\n",
        "from sklearn.impute import SimpleImputer\n",
        "from sklearn.compose import make_column_transformer, make_column_selector\n",
        "from sklearn.pipeline import make_pipeline\n",
        "from sklearn.model_selection import train_test_split\n",
        "from sklearn import set_config\n",
        "from sklearn.linear_model import LinearRegression\n",
        "from sklearn.tree import DecisionTreeRegressor\n",
        "from sklearn.metrics import r2_score\n",
        "from sklearn.metrics import mean_absolute_error\n",
        "from sklearn.metrics import mean_squared_error\n",
        "from sklearn import preprocessing\n",
        "from sklearn.model_selection import train_test_split\n",
        "from sklearn.preprocessing import RobustScaler\n",
        "from sklearn.model_selection import train_test_split\n",
        "import matplotlib.pyplot as plt\n",
        "from matplotlib.ticker import StrMethodFormatter\n",
        "import seaborn as sns\n",
        "from sklearn.model_selection import train_test_split,cross_val_score,GridSearchCV\n",
        "sns.set_style('white')\n",
        "import pandas as pd\n",
        "import numpy as np\n",
        "import matplotlib.pyplot as plt\n",
        "import pandas as pd\n",
        "import seaborn as sns\n",
        "from sklearn.linear_model import LogisticRegression\n",
        "from sklearn.tree import DecisionTreeClassifier\n",
        "from sklearn.ensemble import RandomForestClassifier\n",
        "from xgboost import XGBClassifier\n",
        "from sklearn.naive_bayes import GaussianNB\n",
        "from sklearn.svm import SVC\n",
        "from sklearn.neighbors import KNeighborsClassifier\n",
        "from sklearn.feature_selection import RFECV\n",
        "from sklearn.metrics import roc_curve, roc_auc_score,accuracy_score,f1_score,log_loss,confusion_matrix,classification_report,precision_score,recall_score\n",
        "## Filter ALL warnings\n",
        "import warnings\n",
        "warnings.filterwarnings('ignore')\n",
        "import pandas as pd\n",
        "import numpy as np\n",
        "import seaborn as sns\n",
        "import matplotlib.pyplot as plt\n",
        "\n",
        "from sklearn.preprocessing import OneHotEncoder,StandardScaler, LabelEncoder\n",
        "from sklearn.ensemble import RandomForestClassifier\n",
        "from sklearn.decomposition import PCA\n",
        "from sklearn.model_selection import train_test_split\n",
        "from sklearn.compose import ColumnTransformer,make_column_transformer,make_column_selector\n",
        "from sklearn.neighbors import KNeighborsClassifier\n",
        "from sklearn.ensemble import RandomForestClassifier\n",
        "from sklearn.pipeline import make_pipeline\n",
        "from sklearn.model_selection import GridSearchCV\n",
        "from sklearn.metrics import accuracy_score, precision_score, recall_score, classification_report\n",
        "from sklearn.ensemble import GradientBoostingClassifier\n",
        "from sklearn.datasets import make_classification\n",
        "from sklearn.experimental import enable_halving_search_cv\n",
        "from sklearn.model_selection import HalvingGridSearchCV\n",
        "from sklearn.metrics import confusion_matrix\n",
        "from sklearn.metrics import ConfusionMatrixDisplay\n"
      ],
      "metadata": {
        "id": "QPEt336DsbEu"
      },
      "execution_count": 1,
      "outputs": []
    },
    {
      "cell_type": "markdown",
      "source": [
        "## **Function**"
      ],
      "metadata": {
        "id": "uUgjK79yhRyr"
      }
    },
    {
      "cell_type": "code",
      "source": [
        "## functionize a barplot and call it plot_bar\n",
        "\n",
        "def plot_bar(data,x, y, figsize=(20,5)):\n",
        "    ## Make a larger fig/ax before plotting\n",
        "    fig, ax = plt.subplots(figsize=figsize)\n",
        "\n",
        "    ## Plot barplot\n",
        "\n",
        "    ## counts, counts up the categories, sort the values, then puts them in a\n",
        "    ## data frame.\n",
        "\n",
        "    counts = df[x].value_counts().sort_values(ascending=False).to_frame()\n",
        "    ## ploting the barplot\n",
        "\n",
        "    sns.barplot(data=counts,x=counts.index, y = counts[x],ax=ax)\n",
        "\n",
        "    plt.xticks(rotation= 90)\n",
        "    ax.set_title(f'Categorical Frequencies of {y}', fontsize = 20, fontweight = 'bold');\n",
        "    ax.set_xlabel(f'Categories for {y}', fontsize = 15, fontweight = 'bold')\n",
        "    ax.set_ylabel('Counts', fontsize = 15, fontweight = 'bold')\n",
        "\n",
        "    return fig,ax"
      ],
      "metadata": {
        "id": "UMQLABzyhO-x"
      },
      "execution_count": 2,
      "outputs": []
    },
    {
      "cell_type": "markdown",
      "source": [
        "## **Load and Inspect Data**\n"
      ],
      "metadata": {
        "id": "D0PUjnZ3sguN"
      }
    },
    {
      "cell_type": "code",
      "source": [
        "# Importing Data:\n",
        "df = pd.read_csv('/content/drive/MyDrive/Data/adult income.csv')"
      ],
      "metadata": {
        "id": "nJWu6Qwwsn6-"
      },
      "execution_count": 3,
      "outputs": []
    },
    {
      "cell_type": "code",
      "source": [
        "# Gathering parameters:\n",
        "df.head()"
      ],
      "metadata": {
        "id": "xUR0bvyqtGFj",
        "colab": {
          "base_uri": "https://localhost:8080/",
          "height": 354
        },
        "outputId": "88559d7a-9a03-4a11-b640-604e985cba5b"
      },
      "execution_count": 4,
      "outputs": [
        {
          "output_type": "execute_result",
          "data": {
            "text/plain": [
              "   age  workclass  fnlwgt     education  educational-num      marital-status  \\\n",
              "0   25    Private  226802          11th                7       Never-married   \n",
              "1   38    Private   89814       HS-grad                9  Married-civ-spouse   \n",
              "2   28  Local-gov  336951    Assoc-acdm               12  Married-civ-spouse   \n",
              "3   44    Private  160323  Some-college               10  Married-civ-spouse   \n",
              "4   18          ?  103497  Some-college               10       Never-married   \n",
              "\n",
              "          occupation relationship   race  gender  capital-gain  capital-loss  \\\n",
              "0  Machine-op-inspct    Own-child  Black    Male             0             0   \n",
              "1    Farming-fishing      Husband  White    Male             0             0   \n",
              "2    Protective-serv      Husband  White    Male             0             0   \n",
              "3  Machine-op-inspct      Husband  Black    Male          7688             0   \n",
              "4                  ?    Own-child  White  Female             0             0   \n",
              "\n",
              "   hours-per-week native-country income  \n",
              "0              40  United-States  <=50K  \n",
              "1              50  United-States  <=50K  \n",
              "2              40  United-States   >50K  \n",
              "3              40  United-States   >50K  \n",
              "4              30  United-States  <=50K  "
            ],
            "text/html": [
              "\n",
              "  <div id=\"df-a09b30d2-ee22-43f5-a658-4ddb2336329b\">\n",
              "    <div class=\"colab-df-container\">\n",
              "      <div>\n",
              "<style scoped>\n",
              "    .dataframe tbody tr th:only-of-type {\n",
              "        vertical-align: middle;\n",
              "    }\n",
              "\n",
              "    .dataframe tbody tr th {\n",
              "        vertical-align: top;\n",
              "    }\n",
              "\n",
              "    .dataframe thead th {\n",
              "        text-align: right;\n",
              "    }\n",
              "</style>\n",
              "<table border=\"1\" class=\"dataframe\">\n",
              "  <thead>\n",
              "    <tr style=\"text-align: right;\">\n",
              "      <th></th>\n",
              "      <th>age</th>\n",
              "      <th>workclass</th>\n",
              "      <th>fnlwgt</th>\n",
              "      <th>education</th>\n",
              "      <th>educational-num</th>\n",
              "      <th>marital-status</th>\n",
              "      <th>occupation</th>\n",
              "      <th>relationship</th>\n",
              "      <th>race</th>\n",
              "      <th>gender</th>\n",
              "      <th>capital-gain</th>\n",
              "      <th>capital-loss</th>\n",
              "      <th>hours-per-week</th>\n",
              "      <th>native-country</th>\n",
              "      <th>income</th>\n",
              "    </tr>\n",
              "  </thead>\n",
              "  <tbody>\n",
              "    <tr>\n",
              "      <th>0</th>\n",
              "      <td>25</td>\n",
              "      <td>Private</td>\n",
              "      <td>226802</td>\n",
              "      <td>11th</td>\n",
              "      <td>7</td>\n",
              "      <td>Never-married</td>\n",
              "      <td>Machine-op-inspct</td>\n",
              "      <td>Own-child</td>\n",
              "      <td>Black</td>\n",
              "      <td>Male</td>\n",
              "      <td>0</td>\n",
              "      <td>0</td>\n",
              "      <td>40</td>\n",
              "      <td>United-States</td>\n",
              "      <td>&lt;=50K</td>\n",
              "    </tr>\n",
              "    <tr>\n",
              "      <th>1</th>\n",
              "      <td>38</td>\n",
              "      <td>Private</td>\n",
              "      <td>89814</td>\n",
              "      <td>HS-grad</td>\n",
              "      <td>9</td>\n",
              "      <td>Married-civ-spouse</td>\n",
              "      <td>Farming-fishing</td>\n",
              "      <td>Husband</td>\n",
              "      <td>White</td>\n",
              "      <td>Male</td>\n",
              "      <td>0</td>\n",
              "      <td>0</td>\n",
              "      <td>50</td>\n",
              "      <td>United-States</td>\n",
              "      <td>&lt;=50K</td>\n",
              "    </tr>\n",
              "    <tr>\n",
              "      <th>2</th>\n",
              "      <td>28</td>\n",
              "      <td>Local-gov</td>\n",
              "      <td>336951</td>\n",
              "      <td>Assoc-acdm</td>\n",
              "      <td>12</td>\n",
              "      <td>Married-civ-spouse</td>\n",
              "      <td>Protective-serv</td>\n",
              "      <td>Husband</td>\n",
              "      <td>White</td>\n",
              "      <td>Male</td>\n",
              "      <td>0</td>\n",
              "      <td>0</td>\n",
              "      <td>40</td>\n",
              "      <td>United-States</td>\n",
              "      <td>&gt;50K</td>\n",
              "    </tr>\n",
              "    <tr>\n",
              "      <th>3</th>\n",
              "      <td>44</td>\n",
              "      <td>Private</td>\n",
              "      <td>160323</td>\n",
              "      <td>Some-college</td>\n",
              "      <td>10</td>\n",
              "      <td>Married-civ-spouse</td>\n",
              "      <td>Machine-op-inspct</td>\n",
              "      <td>Husband</td>\n",
              "      <td>Black</td>\n",
              "      <td>Male</td>\n",
              "      <td>7688</td>\n",
              "      <td>0</td>\n",
              "      <td>40</td>\n",
              "      <td>United-States</td>\n",
              "      <td>&gt;50K</td>\n",
              "    </tr>\n",
              "    <tr>\n",
              "      <th>4</th>\n",
              "      <td>18</td>\n",
              "      <td>?</td>\n",
              "      <td>103497</td>\n",
              "      <td>Some-college</td>\n",
              "      <td>10</td>\n",
              "      <td>Never-married</td>\n",
              "      <td>?</td>\n",
              "      <td>Own-child</td>\n",
              "      <td>White</td>\n",
              "      <td>Female</td>\n",
              "      <td>0</td>\n",
              "      <td>0</td>\n",
              "      <td>30</td>\n",
              "      <td>United-States</td>\n",
              "      <td>&lt;=50K</td>\n",
              "    </tr>\n",
              "  </tbody>\n",
              "</table>\n",
              "</div>\n",
              "      <button class=\"colab-df-convert\" onclick=\"convertToInteractive('df-a09b30d2-ee22-43f5-a658-4ddb2336329b')\"\n",
              "              title=\"Convert this dataframe to an interactive table.\"\n",
              "              style=\"display:none;\">\n",
              "        \n",
              "  <svg xmlns=\"http://www.w3.org/2000/svg\" height=\"24px\"viewBox=\"0 0 24 24\"\n",
              "       width=\"24px\">\n",
              "    <path d=\"M0 0h24v24H0V0z\" fill=\"none\"/>\n",
              "    <path d=\"M18.56 5.44l.94 2.06.94-2.06 2.06-.94-2.06-.94-.94-2.06-.94 2.06-2.06.94zm-11 1L8.5 8.5l.94-2.06 2.06-.94-2.06-.94L8.5 2.5l-.94 2.06-2.06.94zm10 10l.94 2.06.94-2.06 2.06-.94-2.06-.94-.94-2.06-.94 2.06-2.06.94z\"/><path d=\"M17.41 7.96l-1.37-1.37c-.4-.4-.92-.59-1.43-.59-.52 0-1.04.2-1.43.59L10.3 9.45l-7.72 7.72c-.78.78-.78 2.05 0 2.83L4 21.41c.39.39.9.59 1.41.59.51 0 1.02-.2 1.41-.59l7.78-7.78 2.81-2.81c.8-.78.8-2.07 0-2.86zM5.41 20L4 18.59l7.72-7.72 1.47 1.35L5.41 20z\"/>\n",
              "  </svg>\n",
              "      </button>\n",
              "      \n",
              "  <style>\n",
              "    .colab-df-container {\n",
              "      display:flex;\n",
              "      flex-wrap:wrap;\n",
              "      gap: 12px;\n",
              "    }\n",
              "\n",
              "    .colab-df-convert {\n",
              "      background-color: #E8F0FE;\n",
              "      border: none;\n",
              "      border-radius: 50%;\n",
              "      cursor: pointer;\n",
              "      display: none;\n",
              "      fill: #1967D2;\n",
              "      height: 32px;\n",
              "      padding: 0 0 0 0;\n",
              "      width: 32px;\n",
              "    }\n",
              "\n",
              "    .colab-df-convert:hover {\n",
              "      background-color: #E2EBFA;\n",
              "      box-shadow: 0px 1px 2px rgba(60, 64, 67, 0.3), 0px 1px 3px 1px rgba(60, 64, 67, 0.15);\n",
              "      fill: #174EA6;\n",
              "    }\n",
              "\n",
              "    [theme=dark] .colab-df-convert {\n",
              "      background-color: #3B4455;\n",
              "      fill: #D2E3FC;\n",
              "    }\n",
              "\n",
              "    [theme=dark] .colab-df-convert:hover {\n",
              "      background-color: #434B5C;\n",
              "      box-shadow: 0px 1px 3px 1px rgba(0, 0, 0, 0.15);\n",
              "      filter: drop-shadow(0px 1px 2px rgba(0, 0, 0, 0.3));\n",
              "      fill: #FFFFFF;\n",
              "    }\n",
              "  </style>\n",
              "\n",
              "      <script>\n",
              "        const buttonEl =\n",
              "          document.querySelector('#df-a09b30d2-ee22-43f5-a658-4ddb2336329b button.colab-df-convert');\n",
              "        buttonEl.style.display =\n",
              "          google.colab.kernel.accessAllowed ? 'block' : 'none';\n",
              "\n",
              "        async function convertToInteractive(key) {\n",
              "          const element = document.querySelector('#df-a09b30d2-ee22-43f5-a658-4ddb2336329b');\n",
              "          const dataTable =\n",
              "            await google.colab.kernel.invokeFunction('convertToInteractive',\n",
              "                                                     [key], {});\n",
              "          if (!dataTable) return;\n",
              "\n",
              "          const docLinkHtml = 'Like what you see? Visit the ' +\n",
              "            '<a target=\"_blank\" href=https://colab.research.google.com/notebooks/data_table.ipynb>data table notebook</a>'\n",
              "            + ' to learn more about interactive tables.';\n",
              "          element.innerHTML = '';\n",
              "          dataTable['output_type'] = 'display_data';\n",
              "          await google.colab.output.renderOutput(dataTable, element);\n",
              "          const docLink = document.createElement('div');\n",
              "          docLink.innerHTML = docLinkHtml;\n",
              "          element.appendChild(docLink);\n",
              "        }\n",
              "      </script>\n",
              "    </div>\n",
              "  </div>\n",
              "  "
            ]
          },
          "metadata": {},
          "execution_count": 4
        }
      ]
    },
    {
      "cell_type": "code",
      "source": [
        "# Display index, columns, null count, and data types\n",
        "df.info()"
      ],
      "metadata": {
        "colab": {
          "base_uri": "https://localhost:8080/"
        },
        "id": "l0PTpVxMwlBf",
        "outputId": "2f52a9d2-95dc-4a9c-a1d3-6ea7035f0e97"
      },
      "execution_count": 5,
      "outputs": [
        {
          "output_type": "stream",
          "name": "stdout",
          "text": [
            "<class 'pandas.core.frame.DataFrame'>\n",
            "RangeIndex: 48842 entries, 0 to 48841\n",
            "Data columns (total 15 columns):\n",
            " #   Column           Non-Null Count  Dtype \n",
            "---  ------           --------------  ----- \n",
            " 0   age              48842 non-null  int64 \n",
            " 1   workclass        48842 non-null  object\n",
            " 2   fnlwgt           48842 non-null  int64 \n",
            " 3   education        48842 non-null  object\n",
            " 4   educational-num  48842 non-null  int64 \n",
            " 5   marital-status   48842 non-null  object\n",
            " 6   occupation       48842 non-null  object\n",
            " 7   relationship     48842 non-null  object\n",
            " 8   race             48842 non-null  object\n",
            " 9   gender           48842 non-null  object\n",
            " 10  capital-gain     48842 non-null  int64 \n",
            " 11  capital-loss     48842 non-null  int64 \n",
            " 12  hours-per-week   48842 non-null  int64 \n",
            " 13  native-country   48842 non-null  object\n",
            " 14  income           48842 non-null  object\n",
            "dtypes: int64(6), object(9)\n",
            "memory usage: 5.6+ MB\n"
          ]
        }
      ]
    },
    {
      "cell_type": "markdown",
      "source": [
        "#### Preliminary: Before we break open the following project, it is good to get a hypothesis about what is to come. This is being made prior to research.\n",
        "\n",
        "1. Source of data:\n",
        "http://www.cs.toronto.edu/~delve/data/adult/desc.html\n",
        "\n",
        "2. Brief description of data:\n",
        "- \"An individual’s annual income results from various factors. Intuitively, it is influenced by the individual’s education level, age, gender, occupation, and etc.\"\n",
        "\n",
        "3. What is the target?\n",
        "- to predict an individual’s annual income based off of various factors\n",
        "\n",
        "4. What does one row represent? (A person?  A business?  An event? A product?)\n",
        "- A person\n",
        "\n",
        "5. Is this a classification or regression problem?\n",
        "- Classification or possible regression, depending on the request\n",
        "\n",
        "6. How many features does the data have?\n",
        "- 10\n",
        "\n",
        "7. How many rows are in the dataset?\n",
        "- 48,842\n",
        "\n",
        "8. What, if any, challenges do you foresee in cleaning, exploring, or modeling this dataset?\n",
        "- In cleaning, there are almost 50,000 rows, meaning there will be a lot of information that we do not require; and this will have to be adjusted or removed.\n",
        "- One advantage, however, is that we do not see any missing data. But, being the professionals we are, we will check later."
      ],
      "metadata": {
        "id": "cPfl5NuutqWs"
      }
    },
    {
      "cell_type": "code",
      "source": [
        "# Identify Columns\n",
        "df.dtypes"
      ],
      "metadata": {
        "colab": {
          "base_uri": "https://localhost:8080/"
        },
        "id": "CWMTGkjbmSg1",
        "outputId": "f5d76013-5a45-499b-ada2-2e559c7d8e4a"
      },
      "execution_count": 6,
      "outputs": [
        {
          "output_type": "execute_result",
          "data": {
            "text/plain": [
              "age                 int64\n",
              "workclass          object\n",
              "fnlwgt              int64\n",
              "education          object\n",
              "educational-num     int64\n",
              "marital-status     object\n",
              "occupation         object\n",
              "relationship       object\n",
              "race               object\n",
              "gender             object\n",
              "capital-gain        int64\n",
              "capital-loss        int64\n",
              "hours-per-week      int64\n",
              "native-country     object\n",
              "income             object\n",
              "dtype: object"
            ]
          },
          "metadata": {},
          "execution_count": 6
        }
      ]
    },
    {
      "cell_type": "markdown",
      "source": [
        "## **Clean Data**\n"
      ],
      "metadata": {
        "id": "DiUjYZ2xthi3"
      }
    },
    {
      "cell_type": "markdown",
      "source": [
        "### Delete Unnecessary Columns"
      ],
      "metadata": {
        "id": "-gskbSoatlAO"
      }
    },
    {
      "cell_type": "code",
      "source": [
        "# Remove Unnecessary Columns\n",
        "df.drop(columns=['fnlwgt','educational-num','race','capital-gain','capital-loss'], inplace=True)\n",
        "df.columns"
      ],
      "metadata": {
        "colab": {
          "base_uri": "https://localhost:8080/"
        },
        "id": "6Y2iQuLHxu3u",
        "outputId": "0f037752-9766-4682-f504-1c5c3b045c59"
      },
      "execution_count": 7,
      "outputs": [
        {
          "output_type": "execute_result",
          "data": {
            "text/plain": [
              "Index(['age', 'workclass', 'education', 'marital-status', 'occupation',\n",
              "       'relationship', 'gender', 'hours-per-week', 'native-country', 'income'],\n",
              "      dtype='object')"
            ]
          },
          "metadata": {},
          "execution_count": 7
        }
      ]
    },
    {
      "cell_type": "markdown",
      "source": [
        "### Delete Duplicate Rows"
      ],
      "metadata": {
        "id": "MUJKbYD6t-BU"
      }
    },
    {
      "cell_type": "code",
      "source": [
        "# Display the number of duplicate rows in the dataset\n",
        "print(f'There are {df.duplicated().sum()} duplicate rows.')"
      ],
      "metadata": {
        "colab": {
          "base_uri": "https://localhost:8080/"
        },
        "id": "B-NiA08duCaV",
        "outputId": "3e5ebc8d-2c22-442c-f1a8-89d87f430419"
      },
      "execution_count": 8,
      "outputs": [
        {
          "output_type": "stream",
          "name": "stdout",
          "text": [
            "There are 8911 duplicate rows.\n"
          ]
        }
      ]
    },
    {
      "cell_type": "code",
      "source": [
        "# Drop duplicte rows\n",
        "df.drop_duplicates(inplace=True)"
      ],
      "metadata": {
        "id": "GlGVoZlXurse"
      },
      "execution_count": 9,
      "outputs": []
    },
    {
      "cell_type": "code",
      "source": [
        "# Display the number of duplicate rows in the dataset\n",
        "print(f'There are {df.duplicated().sum()} duplicate rows.')"
      ],
      "metadata": {
        "colab": {
          "base_uri": "https://localhost:8080/"
        },
        "id": "9A5XDuKNgUf3",
        "outputId": "9b6cbcf0-8801-42fc-cf8e-afc357c523be"
      },
      "execution_count": 10,
      "outputs": [
        {
          "output_type": "stream",
          "name": "stdout",
          "text": [
            "There are 0 duplicate rows.\n"
          ]
        }
      ]
    },
    {
      "cell_type": "markdown",
      "source": [
        "### Identify and Correct Inconsistencies in Categorical Values"
      ],
      "metadata": {
        "id": "xZyr8tY8vpFl"
      }
    },
    {
      "cell_type": "code",
      "source": [
        "df.columns"
      ],
      "metadata": {
        "colab": {
          "base_uri": "https://localhost:8080/"
        },
        "id": "eJpA0CIAhSt0",
        "outputId": "25dc71d5-f3bd-425b-c2bc-bb35754c9229"
      },
      "execution_count": 11,
      "outputs": [
        {
          "output_type": "execute_result",
          "data": {
            "text/plain": [
              "Index(['age', 'workclass', 'education', 'marital-status', 'occupation',\n",
              "       'relationship', 'gender', 'hours-per-week', 'native-country', 'income'],\n",
              "      dtype='object')"
            ]
          },
          "metadata": {},
          "execution_count": 11
        }
      ]
    },
    {
      "cell_type": "code",
      "source": [
        "# Check for and address any inconsistent values in categorical columns.\n",
        "df.describe(include='object')"
      ],
      "metadata": {
        "colab": {
          "base_uri": "https://localhost:8080/",
          "height": 175
        },
        "id": "xMX2wOdSvrVA",
        "outputId": "efeaa088-4f9d-4627-91fe-aab0720f272c"
      },
      "execution_count": 12,
      "outputs": [
        {
          "output_type": "execute_result",
          "data": {
            "text/plain": [
              "       workclass education      marital-status      occupation relationship  \\\n",
              "count      39931     39931               39931           39931        39931   \n",
              "unique         9        16                   7              15            6   \n",
              "top      Private   HS-grad  Married-civ-spouse  Prof-specialty      Husband   \n",
              "freq       26171     11917               17670            5356        15162   \n",
              "\n",
              "       gender native-country income  \n",
              "count   39931          39931  39931  \n",
              "unique      2             42      2  \n",
              "top      Male  United-States  <=50K  \n",
              "freq    26044          34971  30504  "
            ],
            "text/html": [
              "\n",
              "  <div id=\"df-f29b15d2-b58a-4d2f-b31a-a76faeecdf74\">\n",
              "    <div class=\"colab-df-container\">\n",
              "      <div>\n",
              "<style scoped>\n",
              "    .dataframe tbody tr th:only-of-type {\n",
              "        vertical-align: middle;\n",
              "    }\n",
              "\n",
              "    .dataframe tbody tr th {\n",
              "        vertical-align: top;\n",
              "    }\n",
              "\n",
              "    .dataframe thead th {\n",
              "        text-align: right;\n",
              "    }\n",
              "</style>\n",
              "<table border=\"1\" class=\"dataframe\">\n",
              "  <thead>\n",
              "    <tr style=\"text-align: right;\">\n",
              "      <th></th>\n",
              "      <th>workclass</th>\n",
              "      <th>education</th>\n",
              "      <th>marital-status</th>\n",
              "      <th>occupation</th>\n",
              "      <th>relationship</th>\n",
              "      <th>gender</th>\n",
              "      <th>native-country</th>\n",
              "      <th>income</th>\n",
              "    </tr>\n",
              "  </thead>\n",
              "  <tbody>\n",
              "    <tr>\n",
              "      <th>count</th>\n",
              "      <td>39931</td>\n",
              "      <td>39931</td>\n",
              "      <td>39931</td>\n",
              "      <td>39931</td>\n",
              "      <td>39931</td>\n",
              "      <td>39931</td>\n",
              "      <td>39931</td>\n",
              "      <td>39931</td>\n",
              "    </tr>\n",
              "    <tr>\n",
              "      <th>unique</th>\n",
              "      <td>9</td>\n",
              "      <td>16</td>\n",
              "      <td>7</td>\n",
              "      <td>15</td>\n",
              "      <td>6</td>\n",
              "      <td>2</td>\n",
              "      <td>42</td>\n",
              "      <td>2</td>\n",
              "    </tr>\n",
              "    <tr>\n",
              "      <th>top</th>\n",
              "      <td>Private</td>\n",
              "      <td>HS-grad</td>\n",
              "      <td>Married-civ-spouse</td>\n",
              "      <td>Prof-specialty</td>\n",
              "      <td>Husband</td>\n",
              "      <td>Male</td>\n",
              "      <td>United-States</td>\n",
              "      <td>&lt;=50K</td>\n",
              "    </tr>\n",
              "    <tr>\n",
              "      <th>freq</th>\n",
              "      <td>26171</td>\n",
              "      <td>11917</td>\n",
              "      <td>17670</td>\n",
              "      <td>5356</td>\n",
              "      <td>15162</td>\n",
              "      <td>26044</td>\n",
              "      <td>34971</td>\n",
              "      <td>30504</td>\n",
              "    </tr>\n",
              "  </tbody>\n",
              "</table>\n",
              "</div>\n",
              "      <button class=\"colab-df-convert\" onclick=\"convertToInteractive('df-f29b15d2-b58a-4d2f-b31a-a76faeecdf74')\"\n",
              "              title=\"Convert this dataframe to an interactive table.\"\n",
              "              style=\"display:none;\">\n",
              "        \n",
              "  <svg xmlns=\"http://www.w3.org/2000/svg\" height=\"24px\"viewBox=\"0 0 24 24\"\n",
              "       width=\"24px\">\n",
              "    <path d=\"M0 0h24v24H0V0z\" fill=\"none\"/>\n",
              "    <path d=\"M18.56 5.44l.94 2.06.94-2.06 2.06-.94-2.06-.94-.94-2.06-.94 2.06-2.06.94zm-11 1L8.5 8.5l.94-2.06 2.06-.94-2.06-.94L8.5 2.5l-.94 2.06-2.06.94zm10 10l.94 2.06.94-2.06 2.06-.94-2.06-.94-.94-2.06-.94 2.06-2.06.94z\"/><path d=\"M17.41 7.96l-1.37-1.37c-.4-.4-.92-.59-1.43-.59-.52 0-1.04.2-1.43.59L10.3 9.45l-7.72 7.72c-.78.78-.78 2.05 0 2.83L4 21.41c.39.39.9.59 1.41.59.51 0 1.02-.2 1.41-.59l7.78-7.78 2.81-2.81c.8-.78.8-2.07 0-2.86zM5.41 20L4 18.59l7.72-7.72 1.47 1.35L5.41 20z\"/>\n",
              "  </svg>\n",
              "      </button>\n",
              "      \n",
              "  <style>\n",
              "    .colab-df-container {\n",
              "      display:flex;\n",
              "      flex-wrap:wrap;\n",
              "      gap: 12px;\n",
              "    }\n",
              "\n",
              "    .colab-df-convert {\n",
              "      background-color: #E8F0FE;\n",
              "      border: none;\n",
              "      border-radius: 50%;\n",
              "      cursor: pointer;\n",
              "      display: none;\n",
              "      fill: #1967D2;\n",
              "      height: 32px;\n",
              "      padding: 0 0 0 0;\n",
              "      width: 32px;\n",
              "    }\n",
              "\n",
              "    .colab-df-convert:hover {\n",
              "      background-color: #E2EBFA;\n",
              "      box-shadow: 0px 1px 2px rgba(60, 64, 67, 0.3), 0px 1px 3px 1px rgba(60, 64, 67, 0.15);\n",
              "      fill: #174EA6;\n",
              "    }\n",
              "\n",
              "    [theme=dark] .colab-df-convert {\n",
              "      background-color: #3B4455;\n",
              "      fill: #D2E3FC;\n",
              "    }\n",
              "\n",
              "    [theme=dark] .colab-df-convert:hover {\n",
              "      background-color: #434B5C;\n",
              "      box-shadow: 0px 1px 3px 1px rgba(0, 0, 0, 0.15);\n",
              "      filter: drop-shadow(0px 1px 2px rgba(0, 0, 0, 0.3));\n",
              "      fill: #FFFFFF;\n",
              "    }\n",
              "  </style>\n",
              "\n",
              "      <script>\n",
              "        const buttonEl =\n",
              "          document.querySelector('#df-f29b15d2-b58a-4d2f-b31a-a76faeecdf74 button.colab-df-convert');\n",
              "        buttonEl.style.display =\n",
              "          google.colab.kernel.accessAllowed ? 'block' : 'none';\n",
              "\n",
              "        async function convertToInteractive(key) {\n",
              "          const element = document.querySelector('#df-f29b15d2-b58a-4d2f-b31a-a76faeecdf74');\n",
              "          const dataTable =\n",
              "            await google.colab.kernel.invokeFunction('convertToInteractive',\n",
              "                                                     [key], {});\n",
              "          if (!dataTable) return;\n",
              "\n",
              "          const docLinkHtml = 'Like what you see? Visit the ' +\n",
              "            '<a target=\"_blank\" href=https://colab.research.google.com/notebooks/data_table.ipynb>data table notebook</a>'\n",
              "            + ' to learn more about interactive tables.';\n",
              "          element.innerHTML = '';\n",
              "          dataTable['output_type'] = 'display_data';\n",
              "          await google.colab.output.renderOutput(dataTable, element);\n",
              "          const docLink = document.createElement('div');\n",
              "          docLink.innerHTML = docLinkHtml;\n",
              "          element.appendChild(docLink);\n",
              "        }\n",
              "      </script>\n",
              "    </div>\n",
              "  </div>\n",
              "  "
            ]
          },
          "metadata": {},
          "execution_count": 12
        }
      ]
    },
    {
      "cell_type": "markdown",
      "source": [
        "#### Address \"?\""
      ],
      "metadata": {
        "id": "buWhmIlZs5ix"
      }
    },
    {
      "cell_type": "code",
      "source": [
        "# Find Waldo and '?'\n",
        "df.isin(['?']).sum()"
      ],
      "metadata": {
        "colab": {
          "base_uri": "https://localhost:8080/"
        },
        "id": "4zb4r0qOs-4f",
        "outputId": "21300d11-4a67-4602-a95d-93a5008b8f9e"
      },
      "execution_count": 13,
      "outputs": [
        {
          "output_type": "execute_result",
          "data": {
            "text/plain": [
              "age                  0\n",
              "workclass         2306\n",
              "education            0\n",
              "marital-status       0\n",
              "occupation        2316\n",
              "relationship         0\n",
              "gender               0\n",
              "hours-per-week       0\n",
              "native-country     849\n",
              "income               0\n",
              "dtype: int64"
            ]
          },
          "metadata": {},
          "execution_count": 13
        }
      ]
    },
    {
      "cell_type": "code",
      "source": [
        "# Clear up '?'\n",
        "df['workclass']=df['workclass'].replace('?',np.nan)\n",
        "df['occupation']=df['occupation'].replace('?',np.nan)\n",
        "df['native-country']=df['native-country'].replace('?',np.nan)"
      ],
      "metadata": {
        "id": "a6vecyLftCHc"
      },
      "execution_count": 14,
      "outputs": []
    },
    {
      "cell_type": "code",
      "source": [
        "# Confirm that '?' is gone.\n",
        "df.isin(['?']).sum()"
      ],
      "metadata": {
        "colab": {
          "base_uri": "https://localhost:8080/"
        },
        "id": "WzluLj-jtOhK",
        "outputId": "c79a68e9-870a-499d-ac70-09592c495d09"
      },
      "execution_count": 15,
      "outputs": [
        {
          "output_type": "execute_result",
          "data": {
            "text/plain": [
              "age               0\n",
              "workclass         0\n",
              "education         0\n",
              "marital-status    0\n",
              "occupation        0\n",
              "relationship      0\n",
              "gender            0\n",
              "hours-per-week    0\n",
              "native-country    0\n",
              "income            0\n",
              "dtype: int64"
            ]
          },
          "metadata": {},
          "execution_count": 15
        }
      ]
    },
    {
      "cell_type": "markdown",
      "source": [
        "#### Categorial Cleanup"
      ],
      "metadata": {
        "id": "F3IYg393tQQ6"
      }
    },
    {
      "cell_type": "code",
      "source": [
        "# Checking for discrepancies in categorical data column 'Workclass'\n",
        "df['workclass'].value_counts()"
      ],
      "metadata": {
        "colab": {
          "base_uri": "https://localhost:8080/"
        },
        "id": "7cD4Qwkiglq9",
        "outputId": "f212ef3e-6a02-4ab7-922b-600aea797c3f"
      },
      "execution_count": 16,
      "outputs": [
        {
          "output_type": "execute_result",
          "data": {
            "text/plain": [
              "Private             26171\n",
              "Self-emp-not-inc     3669\n",
              "Local-gov            2894\n",
              "State-gov            1895\n",
              "Self-emp-inc         1606\n",
              "Federal-gov          1359\n",
              "Without-pay            21\n",
              "Never-worked           10\n",
              "Name: workclass, dtype: int64"
            ]
          },
          "metadata": {},
          "execution_count": 16
        }
      ]
    },
    {
      "cell_type": "code",
      "source": [
        "# Checking for discrepancies in categorical data column 'Education'\n",
        "df['education'].value_counts()"
      ],
      "metadata": {
        "colab": {
          "base_uri": "https://localhost:8080/"
        },
        "id": "ym5zBD9ssa6P",
        "outputId": "4eaab82a-d97c-4153-f055-efbd9c595f45"
      },
      "execution_count": 17,
      "outputs": [
        {
          "output_type": "execute_result",
          "data": {
            "text/plain": [
              "HS-grad         11917\n",
              "Some-college     8613\n",
              "Bachelors        6427\n",
              "Masters          2354\n",
              "Assoc-voc        1900\n",
              "Assoc-acdm       1545\n",
              "11th             1536\n",
              "10th             1235\n",
              "7th-8th           913\n",
              "Prof-school       771\n",
              "9th               731\n",
              "12th              607\n",
              "Doctorate         565\n",
              "5th-6th           495\n",
              "1st-4th           241\n",
              "Preschool          81\n",
              "Name: education, dtype: int64"
            ]
          },
          "metadata": {},
          "execution_count": 17
        }
      ]
    },
    {
      "cell_type": "code",
      "source": [
        "# Checking for discrepancies in categorical data column 'Marital Status'\n",
        "df['marital-status'].value_counts()"
      ],
      "metadata": {
        "colab": {
          "base_uri": "https://localhost:8080/"
        },
        "id": "xeK86PMIa3UT",
        "outputId": "7eec0b04-281c-4f5b-c461-fb531ab6774e"
      },
      "execution_count": 18,
      "outputs": [
        {
          "output_type": "execute_result",
          "data": {
            "text/plain": [
              "Married-civ-spouse       17670\n",
              "Never-married            12552\n",
              "Divorced                  6057\n",
              "Separated                 1499\n",
              "Widowed                   1490\n",
              "Married-spouse-absent      626\n",
              "Married-AF-spouse           37\n",
              "Name: marital-status, dtype: int64"
            ]
          },
          "metadata": {},
          "execution_count": 18
        }
      ]
    },
    {
      "cell_type": "code",
      "source": [
        "# Checking for discrepancies in categorical data column 'Occupation'\n",
        "df['occupation'].value_counts()"
      ],
      "metadata": {
        "colab": {
          "base_uri": "https://localhost:8080/"
        },
        "id": "lFmXm3JMbFxz",
        "outputId": "39279ca4-7be6-41de-e50e-d28cc3b15f0f"
      },
      "execution_count": 19,
      "outputs": [
        {
          "output_type": "execute_result",
          "data": {
            "text/plain": [
              "Prof-specialty       5356\n",
              "Exec-managerial      5032\n",
              "Adm-clerical         4514\n",
              "Sales                4460\n",
              "Craft-repair         4306\n",
              "Other-service        4183\n",
              "Machine-op-inspct    2291\n",
              "Transport-moving     1949\n",
              "Handlers-cleaners    1629\n",
              "Farming-fishing      1413\n",
              "Tech-support         1310\n",
              "Protective-serv       918\n",
              "Priv-house-serv       239\n",
              "Armed-Forces           15\n",
              "Name: occupation, dtype: int64"
            ]
          },
          "metadata": {},
          "execution_count": 19
        }
      ]
    },
    {
      "cell_type": "code",
      "source": [
        "# Checking for discrepancies in categorical data column 'Relationship'\n",
        "df['relationship'].value_counts()"
      ],
      "metadata": {
        "colab": {
          "base_uri": "https://localhost:8080/"
        },
        "id": "8M8aWcmmbOwm",
        "outputId": "bc4f8ad8-91e3-4a4b-f6b0-447c3596f2f4"
      },
      "execution_count": 20,
      "outputs": [
        {
          "output_type": "execute_result",
          "data": {
            "text/plain": [
              "Husband           15162\n",
              "Not-in-family     10997\n",
              "Own-child          5394\n",
              "Unmarried          4746\n",
              "Wife               2177\n",
              "Other-relative     1455\n",
              "Name: relationship, dtype: int64"
            ]
          },
          "metadata": {},
          "execution_count": 20
        }
      ]
    },
    {
      "cell_type": "code",
      "source": [
        "# Checking for discrepancies in categorical data column 'Gender'\n",
        "df['gender'].value_counts()"
      ],
      "metadata": {
        "colab": {
          "base_uri": "https://localhost:8080/"
        },
        "id": "Z_xc__MCbUT_",
        "outputId": "a3a3079e-0f11-4766-8eb6-dff4a6c74439"
      },
      "execution_count": 21,
      "outputs": [
        {
          "output_type": "execute_result",
          "data": {
            "text/plain": [
              "Male      26044\n",
              "Female    13887\n",
              "Name: gender, dtype: int64"
            ]
          },
          "metadata": {},
          "execution_count": 21
        }
      ]
    },
    {
      "cell_type": "code",
      "source": [
        "# Checking for discrepancies in categorical data column 'Native Country'\n",
        "df['native-country'].value_counts()"
      ],
      "metadata": {
        "colab": {
          "base_uri": "https://localhost:8080/"
        },
        "id": "OIsxgMKGba7A",
        "outputId": "77d5cf4f-64e0-42eb-caba-54a0c171b667"
      },
      "execution_count": 22,
      "outputs": [
        {
          "output_type": "execute_result",
          "data": {
            "text/plain": [
              "United-States                 34971\n",
              "Mexico                          920\n",
              "Philippines                     292\n",
              "Germany                         205\n",
              "Puerto-Rico                     184\n",
              "Canada                          182\n",
              "El-Salvador                     155\n",
              "India                           151\n",
              "Cuba                            138\n",
              "England                         127\n",
              "China                           122\n",
              "South                           115\n",
              "Jamaica                         105\n",
              "Italy                           104\n",
              "Dominican-Republic              102\n",
              "Japan                            92\n",
              "Poland                           87\n",
              "Vietnam                          86\n",
              "Guatemala                        86\n",
              "Columbia                         85\n",
              "Haiti                            75\n",
              "Portugal                         67\n",
              "Taiwan                           64\n",
              "Iran                             59\n",
              "Greece                           49\n",
              "Nicaragua                        49\n",
              "Peru                             46\n",
              "Ecuador                          45\n",
              "France                           38\n",
              "Ireland                          36\n",
              "Hong                             30\n",
              "Thailand                         30\n",
              "Cambodia                         28\n",
              "Trinadad&Tobago                  27\n",
              "Yugoslavia                       23\n",
              "Outlying-US(Guam-USVI-etc)       23\n",
              "Laos                             23\n",
              "Scotland                         21\n",
              "Honduras                         20\n",
              "Hungary                          19\n",
              "Holand-Netherlands                1\n",
              "Name: native-country, dtype: int64"
            ]
          },
          "metadata": {},
          "execution_count": 22
        }
      ]
    },
    {
      "cell_type": "code",
      "source": [
        "# Checking for discrepancies in categorical data column 'Income'\n",
        "df['income'].value_counts()"
      ],
      "metadata": {
        "colab": {
          "base_uri": "https://localhost:8080/"
        },
        "id": "3MM2rxi7bj-2",
        "outputId": "e2a72618-2bbd-47f1-9a9b-be52a4964a88"
      },
      "execution_count": 23,
      "outputs": [
        {
          "output_type": "execute_result",
          "data": {
            "text/plain": [
              "<=50K    30504\n",
              ">50K      9427\n",
              "Name: income, dtype: int64"
            ]
          },
          "metadata": {},
          "execution_count": 23
        }
      ]
    },
    {
      "cell_type": "markdown",
      "source": [
        "### Identify and Addressed Missing Values"
      ],
      "metadata": {
        "id": "mUCZ8hR5nXrb"
      }
    },
    {
      "cell_type": "code",
      "source": [
        "df.isnull().sum()"
      ],
      "metadata": {
        "colab": {
          "base_uri": "https://localhost:8080/"
        },
        "id": "kXn5FZevm47f",
        "outputId": "af714a5b-f4b7-462d-cc9e-725526f22de8"
      },
      "execution_count": 24,
      "outputs": [
        {
          "output_type": "execute_result",
          "data": {
            "text/plain": [
              "age                  0\n",
              "workclass         2306\n",
              "education            0\n",
              "marital-status       0\n",
              "occupation        2316\n",
              "relationship         0\n",
              "gender               0\n",
              "hours-per-week       0\n",
              "native-country     849\n",
              "income               0\n",
              "dtype: int64"
            ]
          },
          "metadata": {},
          "execution_count": 24
        }
      ]
    },
    {
      "cell_type": "code",
      "source": [
        "# Display the total number of missing values\n",
        "print(f'There are {df.isna().sum().sum()} missing values.')"
      ],
      "metadata": {
        "colab": {
          "base_uri": "https://localhost:8080/"
        },
        "id": "R3aG4zLNnRYy",
        "outputId": "365008ed-9e1a-4085-db9f-2f44dbf86961"
      },
      "execution_count": 25,
      "outputs": [
        {
          "output_type": "stream",
          "name": "stdout",
          "text": [
            "There are 5471 missing values.\n"
          ]
        }
      ]
    },
    {
      "cell_type": "code",
      "source": [
        "df.dropna(how='any', inplace=True)"
      ],
      "metadata": {
        "id": "o2IIDU1SnvLV"
      },
      "execution_count": 26,
      "outputs": []
    },
    {
      "cell_type": "code",
      "source": [
        "# Display the total number of missing values\n",
        "print(f'There are {df.isna().sum().sum()} missing values.')"
      ],
      "metadata": {
        "colab": {
          "base_uri": "https://localhost:8080/"
        },
        "id": "akLh6NV_oDgk",
        "outputId": "bfccfadf-ab07-46ac-c1bf-6c34674c70bc"
      },
      "execution_count": 27,
      "outputs": [
        {
          "output_type": "stream",
          "name": "stdout",
          "text": [
            "There are 0 missing values.\n"
          ]
        }
      ]
    },
    {
      "cell_type": "markdown",
      "source": [
        "### Univariate Visuals for the Target"
      ],
      "metadata": {
        "id": "MmKSHe51b_6U"
      }
    },
    {
      "cell_type": "code",
      "source": [
        "df = df.replace(to_replace = \"Never-married\", value = \"Unmarried\")\n",
        "df = df.replace(to_replace = \"Married-civ-spouse\", value = \"Married\")\n",
        "df = df.replace(to_replace = \"Widowed\", value = \"Unmarried\")\n",
        "df = df.replace(to_replace = \"Divorced\", value = \"Unmarried\")\n",
        "df = df.replace(to_replace = \"Separated\", value = \"Married\")\n",
        "df = df.replace(to_replace = \"Married-spouse-absent\", value = \"Married\")\n",
        "df = df.replace(to_replace = \"Married-AF-spouse\", value = \"Married\")\n",
        "df[\"marital-status\"].unique()"
      ],
      "metadata": {
        "colab": {
          "base_uri": "https://localhost:8080/"
        },
        "id": "dbfprgU4LPJg",
        "outputId": "a4b5fc17-1a4c-4149-ed56-418efb3f0014"
      },
      "execution_count": 28,
      "outputs": [
        {
          "output_type": "execute_result",
          "data": {
            "text/plain": [
              "array(['Unmarried', 'Married'], dtype=object)"
            ]
          },
          "metadata": {},
          "execution_count": 28
        }
      ]
    },
    {
      "cell_type": "code",
      "source": [
        "df = df.replace(to_replace = \"Local-gov\", value = \"Government\")\n",
        "df = df.replace(to_replace = \"Federal-gov\", value = \"Government\")\n",
        "df = df.replace(to_replace = \"State-gov\", value = \"Government\")\n",
        "df = df.replace(to_replace = \"Self-emp-not-inc\", value = \"Private\")\n",
        "df = df.replace(to_replace = \"Self-emp-inc\", value = \"Private\")\n",
        "df = df.replace(to_replace = \"Never-worked\", value = \"Unemployed\")\n",
        "df = df.replace(to_replace = \"Without-pay\", value = \"Unknown\")\n",
        "df = df.replace(to_replace = \"?\", value = \"Unknown\")\n",
        "df[\"workclass\"].unique()"
      ],
      "metadata": {
        "colab": {
          "base_uri": "https://localhost:8080/"
        },
        "id": "3dtcQIYaLV0t",
        "outputId": "76e73e14-47b0-4c7b-df8f-7786acb31b0d"
      },
      "execution_count": 29,
      "outputs": [
        {
          "output_type": "execute_result",
          "data": {
            "text/plain": [
              "array(['Private', 'Government', 'Unknown'], dtype=object)"
            ]
          },
          "metadata": {},
          "execution_count": 29
        }
      ]
    },
    {
      "cell_type": "markdown",
      "source": [
        "## Preprocessing Data"
      ],
      "metadata": {
        "id": "EdYbiYiZLaAn"
      }
    },
    {
      "cell_type": "code",
      "source": [
        "X = df.drop(columns = [\"income\"])\n",
        "y = df[\"income\"]"
      ],
      "metadata": {
        "id": "X4zVdhwoLsuW"
      },
      "execution_count": 30,
      "outputs": []
    },
    {
      "cell_type": "code",
      "source": [
        "X.head()"
      ],
      "metadata": {
        "colab": {
          "base_uri": "https://localhost:8080/",
          "height": 206
        },
        "id": "ubRBQ43ZLwE1",
        "outputId": "54d14c8e-c22a-4d85-bb4e-1754df1f561f"
      },
      "execution_count": 31,
      "outputs": [
        {
          "output_type": "execute_result",
          "data": {
            "text/plain": [
              "   age   workclass     education marital-status         occupation  \\\n",
              "0   25     Private          11th      Unmarried  Machine-op-inspct   \n",
              "1   38     Private       HS-grad        Married    Farming-fishing   \n",
              "2   28  Government    Assoc-acdm        Married    Protective-serv   \n",
              "3   44     Private  Some-college        Married  Machine-op-inspct   \n",
              "5   34     Private          10th      Unmarried      Other-service   \n",
              "\n",
              "    relationship gender  hours-per-week native-country  \n",
              "0      Own-child   Male              40  United-States  \n",
              "1        Husband   Male              50  United-States  \n",
              "2        Husband   Male              40  United-States  \n",
              "3        Husband   Male              40  United-States  \n",
              "5  Not-in-family   Male              30  United-States  "
            ],
            "text/html": [
              "\n",
              "  <div id=\"df-3b4529da-186b-49b7-a3fe-64deb50f509e\">\n",
              "    <div class=\"colab-df-container\">\n",
              "      <div>\n",
              "<style scoped>\n",
              "    .dataframe tbody tr th:only-of-type {\n",
              "        vertical-align: middle;\n",
              "    }\n",
              "\n",
              "    .dataframe tbody tr th {\n",
              "        vertical-align: top;\n",
              "    }\n",
              "\n",
              "    .dataframe thead th {\n",
              "        text-align: right;\n",
              "    }\n",
              "</style>\n",
              "<table border=\"1\" class=\"dataframe\">\n",
              "  <thead>\n",
              "    <tr style=\"text-align: right;\">\n",
              "      <th></th>\n",
              "      <th>age</th>\n",
              "      <th>workclass</th>\n",
              "      <th>education</th>\n",
              "      <th>marital-status</th>\n",
              "      <th>occupation</th>\n",
              "      <th>relationship</th>\n",
              "      <th>gender</th>\n",
              "      <th>hours-per-week</th>\n",
              "      <th>native-country</th>\n",
              "    </tr>\n",
              "  </thead>\n",
              "  <tbody>\n",
              "    <tr>\n",
              "      <th>0</th>\n",
              "      <td>25</td>\n",
              "      <td>Private</td>\n",
              "      <td>11th</td>\n",
              "      <td>Unmarried</td>\n",
              "      <td>Machine-op-inspct</td>\n",
              "      <td>Own-child</td>\n",
              "      <td>Male</td>\n",
              "      <td>40</td>\n",
              "      <td>United-States</td>\n",
              "    </tr>\n",
              "    <tr>\n",
              "      <th>1</th>\n",
              "      <td>38</td>\n",
              "      <td>Private</td>\n",
              "      <td>HS-grad</td>\n",
              "      <td>Married</td>\n",
              "      <td>Farming-fishing</td>\n",
              "      <td>Husband</td>\n",
              "      <td>Male</td>\n",
              "      <td>50</td>\n",
              "      <td>United-States</td>\n",
              "    </tr>\n",
              "    <tr>\n",
              "      <th>2</th>\n",
              "      <td>28</td>\n",
              "      <td>Government</td>\n",
              "      <td>Assoc-acdm</td>\n",
              "      <td>Married</td>\n",
              "      <td>Protective-serv</td>\n",
              "      <td>Husband</td>\n",
              "      <td>Male</td>\n",
              "      <td>40</td>\n",
              "      <td>United-States</td>\n",
              "    </tr>\n",
              "    <tr>\n",
              "      <th>3</th>\n",
              "      <td>44</td>\n",
              "      <td>Private</td>\n",
              "      <td>Some-college</td>\n",
              "      <td>Married</td>\n",
              "      <td>Machine-op-inspct</td>\n",
              "      <td>Husband</td>\n",
              "      <td>Male</td>\n",
              "      <td>40</td>\n",
              "      <td>United-States</td>\n",
              "    </tr>\n",
              "    <tr>\n",
              "      <th>5</th>\n",
              "      <td>34</td>\n",
              "      <td>Private</td>\n",
              "      <td>10th</td>\n",
              "      <td>Unmarried</td>\n",
              "      <td>Other-service</td>\n",
              "      <td>Not-in-family</td>\n",
              "      <td>Male</td>\n",
              "      <td>30</td>\n",
              "      <td>United-States</td>\n",
              "    </tr>\n",
              "  </tbody>\n",
              "</table>\n",
              "</div>\n",
              "      <button class=\"colab-df-convert\" onclick=\"convertToInteractive('df-3b4529da-186b-49b7-a3fe-64deb50f509e')\"\n",
              "              title=\"Convert this dataframe to an interactive table.\"\n",
              "              style=\"display:none;\">\n",
              "        \n",
              "  <svg xmlns=\"http://www.w3.org/2000/svg\" height=\"24px\"viewBox=\"0 0 24 24\"\n",
              "       width=\"24px\">\n",
              "    <path d=\"M0 0h24v24H0V0z\" fill=\"none\"/>\n",
              "    <path d=\"M18.56 5.44l.94 2.06.94-2.06 2.06-.94-2.06-.94-.94-2.06-.94 2.06-2.06.94zm-11 1L8.5 8.5l.94-2.06 2.06-.94-2.06-.94L8.5 2.5l-.94 2.06-2.06.94zm10 10l.94 2.06.94-2.06 2.06-.94-2.06-.94-.94-2.06-.94 2.06-2.06.94z\"/><path d=\"M17.41 7.96l-1.37-1.37c-.4-.4-.92-.59-1.43-.59-.52 0-1.04.2-1.43.59L10.3 9.45l-7.72 7.72c-.78.78-.78 2.05 0 2.83L4 21.41c.39.39.9.59 1.41.59.51 0 1.02-.2 1.41-.59l7.78-7.78 2.81-2.81c.8-.78.8-2.07 0-2.86zM5.41 20L4 18.59l7.72-7.72 1.47 1.35L5.41 20z\"/>\n",
              "  </svg>\n",
              "      </button>\n",
              "      \n",
              "  <style>\n",
              "    .colab-df-container {\n",
              "      display:flex;\n",
              "      flex-wrap:wrap;\n",
              "      gap: 12px;\n",
              "    }\n",
              "\n",
              "    .colab-df-convert {\n",
              "      background-color: #E8F0FE;\n",
              "      border: none;\n",
              "      border-radius: 50%;\n",
              "      cursor: pointer;\n",
              "      display: none;\n",
              "      fill: #1967D2;\n",
              "      height: 32px;\n",
              "      padding: 0 0 0 0;\n",
              "      width: 32px;\n",
              "    }\n",
              "\n",
              "    .colab-df-convert:hover {\n",
              "      background-color: #E2EBFA;\n",
              "      box-shadow: 0px 1px 2px rgba(60, 64, 67, 0.3), 0px 1px 3px 1px rgba(60, 64, 67, 0.15);\n",
              "      fill: #174EA6;\n",
              "    }\n",
              "\n",
              "    [theme=dark] .colab-df-convert {\n",
              "      background-color: #3B4455;\n",
              "      fill: #D2E3FC;\n",
              "    }\n",
              "\n",
              "    [theme=dark] .colab-df-convert:hover {\n",
              "      background-color: #434B5C;\n",
              "      box-shadow: 0px 1px 3px 1px rgba(0, 0, 0, 0.15);\n",
              "      filter: drop-shadow(0px 1px 2px rgba(0, 0, 0, 0.3));\n",
              "      fill: #FFFFFF;\n",
              "    }\n",
              "  </style>\n",
              "\n",
              "      <script>\n",
              "        const buttonEl =\n",
              "          document.querySelector('#df-3b4529da-186b-49b7-a3fe-64deb50f509e button.colab-df-convert');\n",
              "        buttonEl.style.display =\n",
              "          google.colab.kernel.accessAllowed ? 'block' : 'none';\n",
              "\n",
              "        async function convertToInteractive(key) {\n",
              "          const element = document.querySelector('#df-3b4529da-186b-49b7-a3fe-64deb50f509e');\n",
              "          const dataTable =\n",
              "            await google.colab.kernel.invokeFunction('convertToInteractive',\n",
              "                                                     [key], {});\n",
              "          if (!dataTable) return;\n",
              "\n",
              "          const docLinkHtml = 'Like what you see? Visit the ' +\n",
              "            '<a target=\"_blank\" href=https://colab.research.google.com/notebooks/data_table.ipynb>data table notebook</a>'\n",
              "            + ' to learn more about interactive tables.';\n",
              "          element.innerHTML = '';\n",
              "          dataTable['output_type'] = 'display_data';\n",
              "          await google.colab.output.renderOutput(dataTable, element);\n",
              "          const docLink = document.createElement('div');\n",
              "          docLink.innerHTML = docLinkHtml;\n",
              "          element.appendChild(docLink);\n",
              "        }\n",
              "      </script>\n",
              "    </div>\n",
              "  </div>\n",
              "  "
            ]
          },
          "metadata": {},
          "execution_count": 31
        }
      ]
    },
    {
      "cell_type": "code",
      "source": [
        "y.head()"
      ],
      "metadata": {
        "colab": {
          "base_uri": "https://localhost:8080/"
        },
        "id": "J93LFwJpLxqN",
        "outputId": "909c79b5-5126-4da6-d0d0-5008fc13dff1"
      },
      "execution_count": 32,
      "outputs": [
        {
          "output_type": "execute_result",
          "data": {
            "text/plain": [
              "0    <=50K\n",
              "1    <=50K\n",
              "2     >50K\n",
              "3     >50K\n",
              "5    <=50K\n",
              "Name: income, dtype: object"
            ]
          },
          "metadata": {},
          "execution_count": 32
        }
      ]
    },
    {
      "cell_type": "code",
      "source": [
        "# Train test split\n",
        "X_train, X_test, y_train, y_test = train_test_split(X, y, random_state=42)"
      ],
      "metadata": {
        "id": "9jMWJxvnMNg6"
      },
      "execution_count": 33,
      "outputs": []
    },
    {
      "cell_type": "code",
      "source": [
        "# Instantiate Standard Scaler\n",
        "scaler = StandardScaler()\n",
        "ohe = OneHotEncoder(sparse = False, handle_unknown='ignore')\n",
        "# Prepare separate processing pipelines for numeric and categorical data\n",
        "num_pipe = make_pipeline(scaler)\n",
        "cat_pipe = make_pipeline(ohe)\n",
        "# Create ColumnSelectors for the the numeric and categorical data\n",
        "cat_selector = make_column_selector(dtype_include='object')\n",
        "num_selector = make_column_selector(dtype_include='number')\n",
        "# Combine the Pipelines and ColumnSelectors into tuples for the ColumnTransformer\n",
        "cat_tuple = (cat_pipe, cat_selector)\n",
        "num_tuple = (num_pipe, num_selector)\n",
        "# Create the preprocessing ColumnTransformer\n",
        "preprocessor = make_column_transformer(cat_tuple, num_tuple, remainder='drop')\n",
        "preprocessor"
      ],
      "metadata": {
        "colab": {
          "base_uri": "https://localhost:8080/",
          "height": 117
        },
        "id": "eK3wQtOaMPxc",
        "outputId": "4cc73669-907e-4b24-ca95-698021901ad3"
      },
      "execution_count": 34,
      "outputs": [
        {
          "output_type": "execute_result",
          "data": {
            "text/plain": [
              "ColumnTransformer(transformers=[('pipeline-1',\n",
              "                                 Pipeline(steps=[('onehotencoder',\n",
              "                                                  OneHotEncoder(handle_unknown='ignore',\n",
              "                                                                sparse=False))]),\n",
              "                                 <sklearn.compose._column_transformer.make_column_selector object at 0x7f5b00e33100>),\n",
              "                                ('pipeline-2',\n",
              "                                 Pipeline(steps=[('standardscaler',\n",
              "                                                  StandardScaler())]),\n",
              "                                 <sklearn.compose._column_transformer.make_column_selector object at 0x7f5b00e33610>)])"
            ],
            "text/html": [
              "<style>#sk-container-id-1 {color: black;background-color: white;}#sk-container-id-1 pre{padding: 0;}#sk-container-id-1 div.sk-toggleable {background-color: white;}#sk-container-id-1 label.sk-toggleable__label {cursor: pointer;display: block;width: 100%;margin-bottom: 0;padding: 0.3em;box-sizing: border-box;text-align: center;}#sk-container-id-1 label.sk-toggleable__label-arrow:before {content: \"▸\";float: left;margin-right: 0.25em;color: #696969;}#sk-container-id-1 label.sk-toggleable__label-arrow:hover:before {color: black;}#sk-container-id-1 div.sk-estimator:hover label.sk-toggleable__label-arrow:before {color: black;}#sk-container-id-1 div.sk-toggleable__content {max-height: 0;max-width: 0;overflow: hidden;text-align: left;background-color: #f0f8ff;}#sk-container-id-1 div.sk-toggleable__content pre {margin: 0.2em;color: black;border-radius: 0.25em;background-color: #f0f8ff;}#sk-container-id-1 input.sk-toggleable__control:checked~div.sk-toggleable__content {max-height: 200px;max-width: 100%;overflow: auto;}#sk-container-id-1 input.sk-toggleable__control:checked~label.sk-toggleable__label-arrow:before {content: \"▾\";}#sk-container-id-1 div.sk-estimator input.sk-toggleable__control:checked~label.sk-toggleable__label {background-color: #d4ebff;}#sk-container-id-1 div.sk-label input.sk-toggleable__control:checked~label.sk-toggleable__label {background-color: #d4ebff;}#sk-container-id-1 input.sk-hidden--visually {border: 0;clip: rect(1px 1px 1px 1px);clip: rect(1px, 1px, 1px, 1px);height: 1px;margin: -1px;overflow: hidden;padding: 0;position: absolute;width: 1px;}#sk-container-id-1 div.sk-estimator {font-family: monospace;background-color: #f0f8ff;border: 1px dotted black;border-radius: 0.25em;box-sizing: border-box;margin-bottom: 0.5em;}#sk-container-id-1 div.sk-estimator:hover {background-color: #d4ebff;}#sk-container-id-1 div.sk-parallel-item::after {content: \"\";width: 100%;border-bottom: 1px solid gray;flex-grow: 1;}#sk-container-id-1 div.sk-label:hover label.sk-toggleable__label {background-color: #d4ebff;}#sk-container-id-1 div.sk-serial::before {content: \"\";position: absolute;border-left: 1px solid gray;box-sizing: border-box;top: 0;bottom: 0;left: 50%;z-index: 0;}#sk-container-id-1 div.sk-serial {display: flex;flex-direction: column;align-items: center;background-color: white;padding-right: 0.2em;padding-left: 0.2em;position: relative;}#sk-container-id-1 div.sk-item {position: relative;z-index: 1;}#sk-container-id-1 div.sk-parallel {display: flex;align-items: stretch;justify-content: center;background-color: white;position: relative;}#sk-container-id-1 div.sk-item::before, #sk-container-id-1 div.sk-parallel-item::before {content: \"\";position: absolute;border-left: 1px solid gray;box-sizing: border-box;top: 0;bottom: 0;left: 50%;z-index: -1;}#sk-container-id-1 div.sk-parallel-item {display: flex;flex-direction: column;z-index: 1;position: relative;background-color: white;}#sk-container-id-1 div.sk-parallel-item:first-child::after {align-self: flex-end;width: 50%;}#sk-container-id-1 div.sk-parallel-item:last-child::after {align-self: flex-start;width: 50%;}#sk-container-id-1 div.sk-parallel-item:only-child::after {width: 0;}#sk-container-id-1 div.sk-dashed-wrapped {border: 1px dashed gray;margin: 0 0.4em 0.5em 0.4em;box-sizing: border-box;padding-bottom: 0.4em;background-color: white;}#sk-container-id-1 div.sk-label label {font-family: monospace;font-weight: bold;display: inline-block;line-height: 1.2em;}#sk-container-id-1 div.sk-label-container {text-align: center;}#sk-container-id-1 div.sk-container {/* jupyter's `normalize.less` sets `[hidden] { display: none; }` but bootstrap.min.css set `[hidden] { display: none !important; }` so we also need the `!important` here to be able to override the default hidden behavior on the sphinx rendered scikit-learn.org. See: https://github.com/scikit-learn/scikit-learn/issues/21755 */display: inline-block !important;position: relative;}#sk-container-id-1 div.sk-text-repr-fallback {display: none;}</style><div id=\"sk-container-id-1\" class=\"sk-top-container\"><div class=\"sk-text-repr-fallback\"><pre>ColumnTransformer(transformers=[(&#x27;pipeline-1&#x27;,\n",
              "                                 Pipeline(steps=[(&#x27;onehotencoder&#x27;,\n",
              "                                                  OneHotEncoder(handle_unknown=&#x27;ignore&#x27;,\n",
              "                                                                sparse=False))]),\n",
              "                                 &lt;sklearn.compose._column_transformer.make_column_selector object at 0x7f5b00e33100&gt;),\n",
              "                                (&#x27;pipeline-2&#x27;,\n",
              "                                 Pipeline(steps=[(&#x27;standardscaler&#x27;,\n",
              "                                                  StandardScaler())]),\n",
              "                                 &lt;sklearn.compose._column_transformer.make_column_selector object at 0x7f5b00e33610&gt;)])</pre><b>In a Jupyter environment, please rerun this cell to show the HTML representation or trust the notebook. <br />On GitHub, the HTML representation is unable to render, please try loading this page with nbviewer.org.</b></div><div class=\"sk-container\" hidden><div class=\"sk-item sk-dashed-wrapped\"><div class=\"sk-label-container\"><div class=\"sk-label sk-toggleable\"><input class=\"sk-toggleable__control sk-hidden--visually\" id=\"sk-estimator-id-1\" type=\"checkbox\" ><label for=\"sk-estimator-id-1\" class=\"sk-toggleable__label sk-toggleable__label-arrow\">ColumnTransformer</label><div class=\"sk-toggleable__content\"><pre>ColumnTransformer(transformers=[(&#x27;pipeline-1&#x27;,\n",
              "                                 Pipeline(steps=[(&#x27;onehotencoder&#x27;,\n",
              "                                                  OneHotEncoder(handle_unknown=&#x27;ignore&#x27;,\n",
              "                                                                sparse=False))]),\n",
              "                                 &lt;sklearn.compose._column_transformer.make_column_selector object at 0x7f5b00e33100&gt;),\n",
              "                                (&#x27;pipeline-2&#x27;,\n",
              "                                 Pipeline(steps=[(&#x27;standardscaler&#x27;,\n",
              "                                                  StandardScaler())]),\n",
              "                                 &lt;sklearn.compose._column_transformer.make_column_selector object at 0x7f5b00e33610&gt;)])</pre></div></div></div><div class=\"sk-parallel\"><div class=\"sk-parallel-item\"><div class=\"sk-item\"><div class=\"sk-label-container\"><div class=\"sk-label sk-toggleable\"><input class=\"sk-toggleable__control sk-hidden--visually\" id=\"sk-estimator-id-2\" type=\"checkbox\" ><label for=\"sk-estimator-id-2\" class=\"sk-toggleable__label sk-toggleable__label-arrow\">pipeline-1</label><div class=\"sk-toggleable__content\"><pre>&lt;sklearn.compose._column_transformer.make_column_selector object at 0x7f5b00e33100&gt;</pre></div></div></div><div class=\"sk-serial\"><div class=\"sk-item\"><div class=\"sk-serial\"><div class=\"sk-item\"><div class=\"sk-estimator sk-toggleable\"><input class=\"sk-toggleable__control sk-hidden--visually\" id=\"sk-estimator-id-3\" type=\"checkbox\" ><label for=\"sk-estimator-id-3\" class=\"sk-toggleable__label sk-toggleable__label-arrow\">OneHotEncoder</label><div class=\"sk-toggleable__content\"><pre>OneHotEncoder(handle_unknown=&#x27;ignore&#x27;, sparse=False)</pre></div></div></div></div></div></div></div></div><div class=\"sk-parallel-item\"><div class=\"sk-item\"><div class=\"sk-label-container\"><div class=\"sk-label sk-toggleable\"><input class=\"sk-toggleable__control sk-hidden--visually\" id=\"sk-estimator-id-4\" type=\"checkbox\" ><label for=\"sk-estimator-id-4\" class=\"sk-toggleable__label sk-toggleable__label-arrow\">pipeline-2</label><div class=\"sk-toggleable__content\"><pre>&lt;sklearn.compose._column_transformer.make_column_selector object at 0x7f5b00e33610&gt;</pre></div></div></div><div class=\"sk-serial\"><div class=\"sk-item\"><div class=\"sk-serial\"><div class=\"sk-item\"><div class=\"sk-estimator sk-toggleable\"><input class=\"sk-toggleable__control sk-hidden--visually\" id=\"sk-estimator-id-5\" type=\"checkbox\" ><label for=\"sk-estimator-id-5\" class=\"sk-toggleable__label sk-toggleable__label-arrow\">StandardScaler</label><div class=\"sk-toggleable__content\"><pre>StandardScaler()</pre></div></div></div></div></div></div></div></div></div></div></div></div>"
            ]
          },
          "metadata": {},
          "execution_count": 34
        }
      ]
    },
    {
      "cell_type": "code",
      "source": [
        "# Instantiate & fit data using PCA\n",
        "pca = PCA(n_components=.95)\n",
        "pca_processor = make_pipeline(preprocessor, pca)"
      ],
      "metadata": {
        "id": "Kk87WdtiMTn5"
      },
      "execution_count": 35,
      "outputs": []
    },
    {
      "cell_type": "code",
      "source": [
        "# creating a preprocessed feature data frame\n",
        "preprocessed_df = preprocessor.fit(X)"
      ],
      "metadata": {
        "id": "z6eSAn-zMVgg"
      },
      "execution_count": 36,
      "outputs": []
    },
    {
      "cell_type": "code",
      "source": [
        "sns.boxplot(df['age'])\n",
        "plt.xticks(rotation=45,ha='right');"
      ],
      "metadata": {
        "colab": {
          "base_uri": "https://localhost:8080/",
          "height": 432
        },
        "id": "5j6NBeX5phK-",
        "outputId": "8b0e5ea3-c747-41a5-9669-6457353c7a91"
      },
      "execution_count": 37,
      "outputs": [
        {
          "output_type": "display_data",
          "data": {
            "text/plain": [
              "<Figure size 640x480 with 1 Axes>"
            ],
            "image/png": "[encoded data removed]"
          },
          "metadata": {}
        }
      ]
    },
    {
      "cell_type": "markdown",
      "source": [
        "- The Outliers seen with Age are everything above 80 years old to 100 years old."
      ],
      "metadata": {
        "id": "xKmxtzPZppDV"
      }
    },
    {
      "cell_type": "code",
      "source": [
        "sns.countplot(df, x='income');"
      ],
      "metadata": {
        "colab": {
          "base_uri": "https://localhost:8080/",
          "height": 449
        },
        "id": "xmVsMx6scEEk",
        "outputId": "d490f868-5bae-4cd1-aeaa-71bcad3c4b21"
      },
      "execution_count": 38,
      "outputs": [
        {
          "output_type": "display_data",
          "data": {
            "text/plain": [
              "<Figure size 640x480 with 1 Axes>"
            ],
            "image/png": "[encoded data removed]"
          },
          "metadata": {}
        }
      ]
    },
    {
      "cell_type": "markdown",
      "source": [
        "- The above chart shows just how many around the world, that were surveyed, make and income above and below the $50,000 line."
      ],
      "metadata": {
        "id": "90ZYDG6FfpOp"
      }
    },
    {
      "cell_type": "markdown",
      "source": [
        "### Multivariate Visuals for the Target"
      ],
      "metadata": {
        "id": "VTYqCg8re_je"
      }
    },
    {
      "cell_type": "markdown",
      "source": [
        "#### We can identify any moderate or strong correlations between our target, the Income, and use that to further our data exploration."
      ],
      "metadata": {
        "id": "5kjOA_gvfMtv"
      }
    },
    {
      "cell_type": "code",
      "source": [
        "# Heatmap the correlations\n",
        "fig, ax = plt.subplots(figsize=(8, 6))\n",
        "sns.heatmap(df.corr(), annot = True, linewidths = .5, fmt = '.1f',ax = ax, cmap = 'Greens')\n",
        "plt.show();"
      ],
      "metadata": {
        "colab": {
          "base_uri": "https://localhost:8080/",
          "height": 528
        },
        "id": "3eB8SMALfrfP",
        "outputId": "23353242-791a-427c-840b-19a7b5045b7f"
      },
      "execution_count": 39,
      "outputs": [
        {
          "output_type": "display_data",
          "data": {
            "text/plain": [
              "<Figure size 800x600 with 2 Axes>"
            ],
            "image/png": "[encoded data removed]"
          },
          "metadata": {}
        }
      ]
    },
    {
      "cell_type": "markdown",
      "source": [
        "#### From above, we see that three close correlations to Income are Gender, Hours-per-week, and Age."
      ],
      "metadata": {
        "id": "YKKOTdoWmTb7"
      }
    },
    {
      "cell_type": "code",
      "source": [
        "fig, ax = plot_bar(df, 'income', 'hours-per-week');\n",
        "print(df['income'].value_counts())\n",
        "plt.xticks(rotation=45,ha='right');"
      ],
      "metadata": {
        "colab": {
          "base_uri": "https://localhost:8080/",
          "height": 494
        },
        "id": "nYRc26FFgajO",
        "outputId": "487b0d74-8f2f-4d45-ba10-ab75292144ea"
      },
      "execution_count": 40,
      "outputs": [
        {
          "output_type": "stream",
          "name": "stdout",
          "text": [
            "<=50K    27846\n",
            ">50K      8965\n",
            "Name: income, dtype: int64\n"
          ]
        },
        {
          "output_type": "display_data",
          "data": {
            "text/plain": [
              "<Figure size 2000x500 with 1 Axes>"
            ],
            "image/png": "[encoded data removed]"
          },
          "metadata": {}
        }
      ]
    },
    {
      "cell_type": "code",
      "source": [
        "# Occupation Evaluation\n",
        "sns.countplot(df, x='occupation');"
      ],
      "metadata": {
        "colab": {
          "base_uri": "https://localhost:8080/",
          "height": 449
        },
        "id": "IhZtDFVknVfY",
        "outputId": "c23dd269-5106-4406-eaf9-89bfd5988748"
      },
      "execution_count": 41,
      "outputs": [
        {
          "output_type": "display_data",
          "data": {
            "text/plain": [
              "<Figure size 640x480 with 1 Axes>"
            ],
            "image/png": "[encoded data removed]"
          },
          "metadata": {}
        }
      ]
    },
    {
      "cell_type": "code",
      "source": [
        "plt.figure(figsize=(10,5))\n",
        "\n",
        "a = float(len(['income']))\n",
        "a = sns.countplot(x='education',data = df)\n",
        "for s in a.patches:\n",
        "    height = s.get_height()\n",
        "    a.text(s.get_x()+s.get_width()/2.,height+3,'{:1.2f}'.format((height)*100),rotation=45,ha='center')\n",
        "plt.show()"
      ],
      "metadata": {
        "colab": {
          "base_uri": "https://localhost:8080/",
          "height": 512
        },
        "id": "W_6YppAhoRXA",
        "outputId": "c6825307-c582-4c9e-94c0-dea619327a0d"
      },
      "execution_count": 42,
      "outputs": [
        {
          "output_type": "display_data",
          "data": {
            "text/plain": [
              "<Figure size 1000x500 with 1 Axes>"
            ],
            "image/png": "[encoded data removed]"
          },
          "metadata": {}
        }
      ]
    },
    {
      "cell_type": "markdown",
      "source": [
        "## For the Stakeholder\n",
        "\n",
        "- Using the above charts, it is my professional recommendation that we can utilize the data of age, education, years working, and debt; to make an educated guess in order to predict someones income level."
      ],
      "metadata": {
        "id": "8T5259M6UNOb"
      }
    },
    {
      "cell_type": "markdown",
      "source": [
        "## Predictive Algorithms"
      ],
      "metadata": {
        "id": "rhDtfCd3M44P"
      }
    },
    {
      "cell_type": "markdown",
      "source": [
        "### KNN"
      ],
      "metadata": {
        "id": "xe9Rz4k_NJoJ"
      }
    },
    {
      "cell_type": "code",
      "source": [
        "# creating a default KNN classification model\n",
        "knn = KNeighborsClassifier(n_neighbors = 1)\n",
        "knn_pipe = make_pipeline(preprocessed_df, knn)\n",
        "\n",
        "knn_pipe.fit(X_train, y_train)\n",
        "knn_pipe.predict(X_test)\n",
        "\n",
        "knn_train_score = knn_pipe.score(X_train, y_train)\n",
        "knn_test_score = knn_pipe.score(X_test, y_test)\n",
        "print(f\"Train score: {knn_train_score}\")\n",
        "print(f\"Test score: {knn_test_score}\")"
      ],
      "metadata": {
        "colab": {
          "base_uri": "https://localhost:8080/"
        },
        "id": "yxie3bwwM603",
        "outputId": "4d77e6a4-093f-448e-f7c7-fbf13616480f"
      },
      "execution_count": 43,
      "outputs": [
        {
          "output_type": "stream",
          "name": "stdout",
          "text": [
            "Train score: 0.9558823529411765\n",
            "Test score: 0.7493208736281647\n"
          ]
        }
      ]
    },
    {
      "cell_type": "code",
      "source": [
        "# printing a classification report of the knn model\n",
        "knn_preds = knn_pipe.predict(X_test)\n",
        "print(classification_report(knn_preds, y_test))"
      ],
      "metadata": {
        "colab": {
          "base_uri": "https://localhost:8080/"
        },
        "id": "6dJbPTCzNMNP",
        "outputId": "67ab7956-4ffc-4313-e026-9b270815cd3b"
      },
      "execution_count": 44,
      "outputs": [
        {
          "output_type": "stream",
          "name": "stdout",
          "text": [
            "              precision    recall  f1-score   support\n",
            "\n",
            "       <=50K       0.83      0.84      0.83      6902\n",
            "        >50K       0.50      0.47      0.48      2301\n",
            "\n",
            "    accuracy                           0.75      9203\n",
            "   macro avg       0.66      0.66      0.66      9203\n",
            "weighted avg       0.74      0.75      0.75      9203\n",
            "\n"
          ]
        }
      ]
    },
    {
      "cell_type": "code",
      "source": [
        "# generating a confusion matrix of the knn model\n",
        "cm = confusion_matrix(y_test.values, knn_preds)\n",
        "cm_df = pd.DataFrame(cm)\n",
        "ConfusionMatrixDisplay.from_predictions(y_test, knn_preds, cmap = \"Greens\");"
      ],
      "metadata": {
        "colab": {
          "base_uri": "https://localhost:8080/",
          "height": 449
        },
        "id": "YFwoQW8SNPoe",
        "outputId": "804b62f3-f663-473d-a497-62df48a11e56"
      },
      "execution_count": 45,
      "outputs": [
        {
          "output_type": "display_data",
          "data": {
            "text/plain": [
              "<Figure size 640x480 with 2 Axes>"
            ],
            "image/png": "[encoded data removed]"
          },
          "metadata": {}
        }
      ]
    },
    {
      "cell_type": "code",
      "source": [
        "# printing the predicted number of income results from the KNN model\n",
        "unique, counts = np.unique(knn_preds, return_counts=True)\n",
        "print(np.asarray((unique, counts)).T)"
      ],
      "metadata": {
        "colab": {
          "base_uri": "https://localhost:8080/"
        },
        "id": "81QFefd7NT2d",
        "outputId": "6db1ee32-8dea-4fb0-dd1f-39060016c6f3"
      },
      "execution_count": 46,
      "outputs": [
        {
          "output_type": "stream",
          "name": "stdout",
          "text": [
            "[['<=50K' 6902]\n",
            " ['>50K' 2301]]\n"
          ]
        }
      ]
    },
    {
      "cell_type": "code",
      "source": [
        "# checking KNN available hyperparameters\n",
        "knn.get_params()"
      ],
      "metadata": {
        "colab": {
          "base_uri": "https://localhost:8080/"
        },
        "id": "wObmzo7TNXFU",
        "outputId": "e4f001e5-f939-4145-8bb2-ec80ba143903"
      },
      "execution_count": 47,
      "outputs": [
        {
          "output_type": "execute_result",
          "data": {
            "text/plain": [
              "{'algorithm': 'auto',\n",
              " 'leaf_size': 30,\n",
              " 'metric': 'minkowski',\n",
              " 'metric_params': None,\n",
              " 'n_jobs': None,\n",
              " 'n_neighbors': 1,\n",
              " 'p': 2,\n",
              " 'weights': 'uniform'}"
            ]
          },
          "metadata": {},
          "execution_count": 47
        }
      ]
    },
    {
      "cell_type": "code",
      "source": [
        "# KNN parameter grid\n",
        "knn_param_grid = {\"n_neighbors\" : [1, 2, 3, 4, 5, 7, 11, 13, 15],\n",
        "                  \"leaf_size\" : [20, 30, 40, 50, 60],\n",
        "                  'weights' : ['uniform','distance'],\n",
        "                  'metric' : ['minkowski','euclidean']}"
      ],
      "metadata": {
        "id": "JSqov5icNZhB"
      },
      "execution_count": 48,
      "outputs": []
    },
    {
      "cell_type": "code",
      "source": [
        "# generating the best hyperparameters from the KNN parameter grid\n",
        "base_estimator = KNeighborsClassifier()\n",
        "X, y = make_classification(n_samples=1000)\n",
        "sh = HalvingGridSearchCV(base_estimator, knn_param_grid, cv=5,\n",
        "                         factor=2).fit(X, y)\n",
        "sh.best_estimator_"
      ],
      "metadata": {
        "colab": {
          "base_uri": "https://localhost:8080/",
          "height": 74
        },
        "id": "wWFJLvdbNblP",
        "outputId": "0da3de55-98d7-4aa8-8702-087e09460d9d"
      },
      "execution_count": 49,
      "outputs": [
        {
          "output_type": "execute_result",
          "data": {
            "text/plain": [
              "KNeighborsClassifier(leaf_size=40, n_neighbors=15)"
            ],
            "text/html": [
              "<style>#sk-container-id-2 {color: black;background-color: white;}#sk-container-id-2 pre{padding: 0;}#sk-container-id-2 div.sk-toggleable {background-color: white;}#sk-container-id-2 label.sk-toggleable__label {cursor: pointer;display: block;width: 100%;margin-bottom: 0;padding: 0.3em;box-sizing: border-box;text-align: center;}#sk-container-id-2 label.sk-toggleable__label-arrow:before {content: \"▸\";float: left;margin-right: 0.25em;color: #696969;}#sk-container-id-2 label.sk-toggleable__label-arrow:hover:before {color: black;}#sk-container-id-2 div.sk-estimator:hover label.sk-toggleable__label-arrow:before {color: black;}#sk-container-id-2 div.sk-toggleable__content {max-height: 0;max-width: 0;overflow: hidden;text-align: left;background-color: #f0f8ff;}#sk-container-id-2 div.sk-toggleable__content pre {margin: 0.2em;color: black;border-radius: 0.25em;background-color: #f0f8ff;}#sk-container-id-2 input.sk-toggleable__control:checked~div.sk-toggleable__content {max-height: 200px;max-width: 100%;overflow: auto;}#sk-container-id-2 input.sk-toggleable__control:checked~label.sk-toggleable__label-arrow:before {content: \"▾\";}#sk-container-id-2 div.sk-estimator input.sk-toggleable__control:checked~label.sk-toggleable__label {background-color: #d4ebff;}#sk-container-id-2 div.sk-label input.sk-toggleable__control:checked~label.sk-toggleable__label {background-color: #d4ebff;}#sk-container-id-2 input.sk-hidden--visually {border: 0;clip: rect(1px 1px 1px 1px);clip: rect(1px, 1px, 1px, 1px);height: 1px;margin: -1px;overflow: hidden;padding: 0;position: absolute;width: 1px;}#sk-container-id-2 div.sk-estimator {font-family: monospace;background-color: #f0f8ff;border: 1px dotted black;border-radius: 0.25em;box-sizing: border-box;margin-bottom: 0.5em;}#sk-container-id-2 div.sk-estimator:hover {background-color: #d4ebff;}#sk-container-id-2 div.sk-parallel-item::after {content: \"\";width: 100%;border-bottom: 1px solid gray;flex-grow: 1;}#sk-container-id-2 div.sk-label:hover label.sk-toggleable__label {background-color: #d4ebff;}#sk-container-id-2 div.sk-serial::before {content: \"\";position: absolute;border-left: 1px solid gray;box-sizing: border-box;top: 0;bottom: 0;left: 50%;z-index: 0;}#sk-container-id-2 div.sk-serial {display: flex;flex-direction: column;align-items: center;background-color: white;padding-right: 0.2em;padding-left: 0.2em;position: relative;}#sk-container-id-2 div.sk-item {position: relative;z-index: 1;}#sk-container-id-2 div.sk-parallel {display: flex;align-items: stretch;justify-content: center;background-color: white;position: relative;}#sk-container-id-2 div.sk-item::before, #sk-container-id-2 div.sk-parallel-item::before {content: \"\";position: absolute;border-left: 1px solid gray;box-sizing: border-box;top: 0;bottom: 0;left: 50%;z-index: -1;}#sk-container-id-2 div.sk-parallel-item {display: flex;flex-direction: column;z-index: 1;position: relative;background-color: white;}#sk-container-id-2 div.sk-parallel-item:first-child::after {align-self: flex-end;width: 50%;}#sk-container-id-2 div.sk-parallel-item:last-child::after {align-self: flex-start;width: 50%;}#sk-container-id-2 div.sk-parallel-item:only-child::after {width: 0;}#sk-container-id-2 div.sk-dashed-wrapped {border: 1px dashed gray;margin: 0 0.4em 0.5em 0.4em;box-sizing: border-box;padding-bottom: 0.4em;background-color: white;}#sk-container-id-2 div.sk-label label {font-family: monospace;font-weight: bold;display: inline-block;line-height: 1.2em;}#sk-container-id-2 div.sk-label-container {text-align: center;}#sk-container-id-2 div.sk-container {/* jupyter's `normalize.less` sets `[hidden] { display: none; }` but bootstrap.min.css set `[hidden] { display: none !important; }` so we also need the `!important` here to be able to override the default hidden behavior on the sphinx rendered scikit-learn.org. See: https://github.com/scikit-learn/scikit-learn/issues/21755 */display: inline-block !important;position: relative;}#sk-container-id-2 div.sk-text-repr-fallback {display: none;}</style><div id=\"sk-container-id-2\" class=\"sk-top-container\"><div class=\"sk-text-repr-fallback\"><pre>KNeighborsClassifier(leaf_size=40, n_neighbors=15)</pre><b>In a Jupyter environment, please rerun this cell to show the HTML representation or trust the notebook. <br />On GitHub, the HTML representation is unable to render, please try loading this page with nbviewer.org.</b></div><div class=\"sk-container\" hidden><div class=\"sk-item\"><div class=\"sk-estimator sk-toggleable\"><input class=\"sk-toggleable__control sk-hidden--visually\" id=\"sk-estimator-id-6\" type=\"checkbox\" checked><label for=\"sk-estimator-id-6\" class=\"sk-toggleable__label sk-toggleable__label-arrow\">KNeighborsClassifier</label><div class=\"sk-toggleable__content\"><pre>KNeighborsClassifier(leaf_size=40, n_neighbors=15)</pre></div></div></div></div></div>"
            ]
          },
          "metadata": {},
          "execution_count": 49
        }
      ]
    },
    {
      "cell_type": "code",
      "source": [
        "# creating a tuned KNN classification model with PCA\n",
        "knn_tuned = KNeighborsClassifier(n_neighbors = 7,\n",
        "                                 leaf_size = 50,\n",
        "                                 metric = \"euclidean\",\n",
        "                                 weights = \"distance\")\n",
        "knn_pipe_tuned = make_pipeline(pca_processor, knn_tuned)\n",
        "\n",
        "knn_pipe_tuned.fit(X_train, y_train)\n",
        "knn_pipe_tuned.predict(X_test)\n",
        "\n",
        "knn_train_score_tuned = knn_pipe_tuned.score(X_train, y_train)\n",
        "knn_test_score_tuned = knn_pipe_tuned.score(X_test, y_test)\n",
        "print(f\"Train score: {knn_train_score_tuned}\")\n",
        "print(f\"Test score: {knn_test_score_tuned}\")"
      ],
      "metadata": {
        "colab": {
          "base_uri": "https://localhost:8080/"
        },
        "id": "R6-ucEa-Nes1",
        "outputId": "a40a6e38-6343-44cf-87b1-45ecae5f69a6"
      },
      "execution_count": 50,
      "outputs": [
        {
          "output_type": "stream",
          "name": "stdout",
          "text": [
            "Train score: 0.9584540712836859\n",
            "Test score: 0.7729001412582853\n"
          ]
        }
      ]
    },
    {
      "cell_type": "code",
      "source": [
        "knn_preds_tuned = knn_pipe_tuned.predict(X_test)\n",
        "print(classification_report(knn_preds_tuned, y_test))"
      ],
      "metadata": {
        "colab": {
          "base_uri": "https://localhost:8080/"
        },
        "id": "5wlDc7TYNi_D",
        "outputId": "ed902b8f-a480-4ac9-b4c4-242492b0ca74"
      },
      "execution_count": 51,
      "outputs": [
        {
          "output_type": "stream",
          "name": "stdout",
          "text": [
            "              precision    recall  f1-score   support\n",
            "\n",
            "       <=50K       0.86      0.84      0.85      7169\n",
            "        >50K       0.49      0.52      0.50      2034\n",
            "\n",
            "    accuracy                           0.77      9203\n",
            "   macro avg       0.67      0.68      0.68      9203\n",
            "weighted avg       0.78      0.77      0.78      9203\n",
            "\n"
          ]
        }
      ]
    },
    {
      "cell_type": "code",
      "source": [
        "# generating a confusion matrix of the knn model\n",
        "cm = confusion_matrix(y_test.values, knn_preds_tuned)\n",
        "cm_df = pd.DataFrame(cm)\n",
        "ConfusionMatrixDisplay.from_predictions(y_test, knn_preds_tuned, cmap = \"Greens\");"
      ],
      "metadata": {
        "colab": {
          "base_uri": "https://localhost:8080/",
          "height": 451
        },
        "id": "dt9eARELNlW_",
        "outputId": "ac38443d-1575-4153-93d8-30efb57e1117"
      },
      "execution_count": 52,
      "outputs": [
        {
          "output_type": "display_data",
          "data": {
            "text/plain": [
              "<Figure size 640x480 with 2 Axes>"
            ],
            "image/png": "[encoded data removed]"
          },
          "metadata": {}
        }
      ]
    },
    {
      "cell_type": "code",
      "source": [
        "# printing the predicted number of income results from the tuned KNN model\n",
        "unique, counts = np.unique(knn_preds_tuned, return_counts=True)\n",
        "print(np.asarray((unique, counts)).T)"
      ],
      "metadata": {
        "colab": {
          "base_uri": "https://localhost:8080/"
        },
        "id": "A64x7Pz3NpRA",
        "outputId": "74b3e929-2e1d-4565-f37d-d8046a6524be"
      },
      "execution_count": 53,
      "outputs": [
        {
          "output_type": "stream",
          "name": "stdout",
          "text": [
            "[['<=50K' 7169]\n",
            " ['>50K' 2034]]\n"
          ]
        }
      ]
    },
    {
      "cell_type": "markdown",
      "source": [
        "## Random Forest Model"
      ],
      "metadata": {
        "id": "S9qoelyLNtDu"
      }
    },
    {
      "cell_type": "code",
      "source": [
        "# creating and testing a random forest model\n",
        "rf = RandomForestClassifier(random_state = 42)\n",
        "# creating a pipeline using the scaler and preprocessor data frame\n",
        "rf_pipe = make_pipeline(preprocessed_df, rf)\n",
        "\n",
        "rf_pipe.fit(X_train, y_train)\n",
        "\n",
        "rf_train_score = rf_pipe.score(X_train, y_train)\n",
        "rf_test_score = rf_pipe.score(X_test, y_test)\n",
        "print(f\"Train score: {rf_train_score}\")\n",
        "print(f\"Test score: {rf_test_score}\")"
      ],
      "metadata": {
        "colab": {
          "base_uri": "https://localhost:8080/"
        },
        "id": "DXKnz0PeOPbR",
        "outputId": "421b6627-8347-4109-f310-f1caaac8d9dd"
      },
      "execution_count": 54,
      "outputs": [
        {
          "output_type": "stream",
          "name": "stdout",
          "text": [
            "Train score: 0.9584178498985801\n",
            "Test score: 0.7768119091600565\n"
          ]
        }
      ]
    },
    {
      "cell_type": "code",
      "source": [
        "rf_preds = rf_pipe.predict(X_test)\n",
        "print(classification_report(rf_preds, y_test))"
      ],
      "metadata": {
        "colab": {
          "base_uri": "https://localhost:8080/"
        },
        "id": "YGnthOB_OT4m",
        "outputId": "cb19fd89-2f71-48c5-927d-afd52e338c8c"
      },
      "execution_count": 55,
      "outputs": [
        {
          "output_type": "stream",
          "name": "stdout",
          "text": [
            "              precision    recall  f1-score   support\n",
            "\n",
            "       <=50K       0.87      0.84      0.86      7221\n",
            "        >50K       0.48      0.53      0.51      1982\n",
            "\n",
            "    accuracy                           0.78      9203\n",
            "   macro avg       0.68      0.69      0.68      9203\n",
            "weighted avg       0.78      0.78      0.78      9203\n",
            "\n"
          ]
        }
      ]
    },
    {
      "cell_type": "code",
      "source": [
        "# generating a confusion matrix of the random forest model\n",
        "cm = confusion_matrix(y_test.values, rf_preds)\n",
        "cm_df = pd.DataFrame(cm)\n",
        "ConfusionMatrixDisplay.from_predictions(y_test, rf_preds, cmap = \"Greens\");"
      ],
      "metadata": {
        "colab": {
          "base_uri": "https://localhost:8080/",
          "height": 449
        },
        "id": "f4H13oYYOV_D",
        "outputId": "85631b45-af4f-4580-c9d6-389063fabd79"
      },
      "execution_count": 56,
      "outputs": [
        {
          "output_type": "display_data",
          "data": {
            "text/plain": [
              "<Figure size 640x480 with 2 Axes>"
            ],
            "image/png": "[encoded data removed]"
          },
          "metadata": {}
        }
      ]
    },
    {
      "cell_type": "code",
      "source": [
        "# printing the predicted number of income results from the random forest model\n",
        "unique, counts = np.unique(rf_preds, return_counts=True)\n",
        "print(np.asarray((unique, counts)).T)"
      ],
      "metadata": {
        "colab": {
          "base_uri": "https://localhost:8080/"
        },
        "id": "QtP0V2TPOacp",
        "outputId": "0e6f54e8-0592-49d5-d1c8-69d84f9817b9"
      },
      "execution_count": 57,
      "outputs": [
        {
          "output_type": "stream",
          "name": "stdout",
          "text": [
            "[['<=50K' 7221]\n",
            " ['>50K' 1982]]\n"
          ]
        }
      ]
    },
    {
      "cell_type": "code",
      "source": [
        "# checking random forest parameters\n",
        "rf.get_params()"
      ],
      "metadata": {
        "colab": {
          "base_uri": "https://localhost:8080/"
        },
        "id": "oHCNRQPbOdTA",
        "outputId": "4956d915-779f-4098-d46b-37ac4cb4402f"
      },
      "execution_count": 58,
      "outputs": [
        {
          "output_type": "execute_result",
          "data": {
            "text/plain": [
              "{'bootstrap': True,\n",
              " 'ccp_alpha': 0.0,\n",
              " 'class_weight': None,\n",
              " 'criterion': 'gini',\n",
              " 'max_depth': None,\n",
              " 'max_features': 'sqrt',\n",
              " 'max_leaf_nodes': None,\n",
              " 'max_samples': None,\n",
              " 'min_impurity_decrease': 0.0,\n",
              " 'min_samples_leaf': 1,\n",
              " 'min_samples_split': 2,\n",
              " 'min_weight_fraction_leaf': 0.0,\n",
              " 'n_estimators': 100,\n",
              " 'n_jobs': None,\n",
              " 'oob_score': False,\n",
              " 'random_state': 42,\n",
              " 'verbose': 0,\n",
              " 'warm_start': False}"
            ]
          },
          "metadata": {},
          "execution_count": 58
        }
      ]
    },
    {
      "cell_type": "code",
      "source": [
        "# random forest parameter grid\n",
        "rf_param_grid = {'bootstrap': [True, False],\n",
        "                 'max_features': ['auto', 'sqrt'],\n",
        "                 \"max_depth\" : [10, 80, 100, 110, None],\n",
        "                 'min_samples_leaf': [1, 2, 4]}"
      ],
      "metadata": {
        "id": "P_Gjo1kFOh4e"
      },
      "execution_count": 59,
      "outputs": []
    },
    {
      "cell_type": "code",
      "source": [
        "# generating the best hyperparameters from the random forest parameter grid\n",
        "base_estimator = RandomForestClassifier()\n",
        "X, y = make_classification(n_samples=1000)\n",
        "sh = HalvingGridSearchCV(base_estimator, rf_param_grid, cv=5,\n",
        "                         factor=2).fit(X, y)\n",
        "sh.best_estimator_"
      ],
      "metadata": {
        "colab": {
          "base_uri": "https://localhost:8080/",
          "height": 74
        },
        "id": "srXYhs-OOj1O",
        "outputId": "eede3cec-3eed-4e23-c613-3f2ade96b1ba"
      },
      "execution_count": 60,
      "outputs": [
        {
          "output_type": "execute_result",
          "data": {
            "text/plain": [
              "RandomForestClassifier(bootstrap=False, max_depth=110)"
            ],
            "text/html": [
              "<style>#sk-container-id-3 {color: black;background-color: white;}#sk-container-id-3 pre{padding: 0;}#sk-container-id-3 div.sk-toggleable {background-color: white;}#sk-container-id-3 label.sk-toggleable__label {cursor: pointer;display: block;width: 100%;margin-bottom: 0;padding: 0.3em;box-sizing: border-box;text-align: center;}#sk-container-id-3 label.sk-toggleable__label-arrow:before {content: \"▸\";float: left;margin-right: 0.25em;color: #696969;}#sk-container-id-3 label.sk-toggleable__label-arrow:hover:before {color: black;}#sk-container-id-3 div.sk-estimator:hover label.sk-toggleable__label-arrow:before {color: black;}#sk-container-id-3 div.sk-toggleable__content {max-height: 0;max-width: 0;overflow: hidden;text-align: left;background-color: #f0f8ff;}#sk-container-id-3 div.sk-toggleable__content pre {margin: 0.2em;color: black;border-radius: 0.25em;background-color: #f0f8ff;}#sk-container-id-3 input.sk-toggleable__control:checked~div.sk-toggleable__content {max-height: 200px;max-width: 100%;overflow: auto;}#sk-container-id-3 input.sk-toggleable__control:checked~label.sk-toggleable__label-arrow:before {content: \"▾\";}#sk-container-id-3 div.sk-estimator input.sk-toggleable__control:checked~label.sk-toggleable__label {background-color: #d4ebff;}#sk-container-id-3 div.sk-label input.sk-toggleable__control:checked~label.sk-toggleable__label {background-color: #d4ebff;}#sk-container-id-3 input.sk-hidden--visually {border: 0;clip: rect(1px 1px 1px 1px);clip: rect(1px, 1px, 1px, 1px);height: 1px;margin: -1px;overflow: hidden;padding: 0;position: absolute;width: 1px;}#sk-container-id-3 div.sk-estimator {font-family: monospace;background-color: #f0f8ff;border: 1px dotted black;border-radius: 0.25em;box-sizing: border-box;margin-bottom: 0.5em;}#sk-container-id-3 div.sk-estimator:hover {background-color: #d4ebff;}#sk-container-id-3 div.sk-parallel-item::after {content: \"\";width: 100%;border-bottom: 1px solid gray;flex-grow: 1;}#sk-container-id-3 div.sk-label:hover label.sk-toggleable__label {background-color: #d4ebff;}#sk-container-id-3 div.sk-serial::before {content: \"\";position: absolute;border-left: 1px solid gray;box-sizing: border-box;top: 0;bottom: 0;left: 50%;z-index: 0;}#sk-container-id-3 div.sk-serial {display: flex;flex-direction: column;align-items: center;background-color: white;padding-right: 0.2em;padding-left: 0.2em;position: relative;}#sk-container-id-3 div.sk-item {position: relative;z-index: 1;}#sk-container-id-3 div.sk-parallel {display: flex;align-items: stretch;justify-content: center;background-color: white;position: relative;}#sk-container-id-3 div.sk-item::before, #sk-container-id-3 div.sk-parallel-item::before {content: \"\";position: absolute;border-left: 1px solid gray;box-sizing: border-box;top: 0;bottom: 0;left: 50%;z-index: -1;}#sk-container-id-3 div.sk-parallel-item {display: flex;flex-direction: column;z-index: 1;position: relative;background-color: white;}#sk-container-id-3 div.sk-parallel-item:first-child::after {align-self: flex-end;width: 50%;}#sk-container-id-3 div.sk-parallel-item:last-child::after {align-self: flex-start;width: 50%;}#sk-container-id-3 div.sk-parallel-item:only-child::after {width: 0;}#sk-container-id-3 div.sk-dashed-wrapped {border: 1px dashed gray;margin: 0 0.4em 0.5em 0.4em;box-sizing: border-box;padding-bottom: 0.4em;background-color: white;}#sk-container-id-3 div.sk-label label {font-family: monospace;font-weight: bold;display: inline-block;line-height: 1.2em;}#sk-container-id-3 div.sk-label-container {text-align: center;}#sk-container-id-3 div.sk-container {/* jupyter's `normalize.less` sets `[hidden] { display: none; }` but bootstrap.min.css set `[hidden] { display: none !important; }` so we also need the `!important` here to be able to override the default hidden behavior on the sphinx rendered scikit-learn.org. See: https://github.com/scikit-learn/scikit-learn/issues/21755 */display: inline-block !important;position: relative;}#sk-container-id-3 div.sk-text-repr-fallback {display: none;}</style><div id=\"sk-container-id-3\" class=\"sk-top-container\"><div class=\"sk-text-repr-fallback\"><pre>RandomForestClassifier(bootstrap=False, max_depth=110)</pre><b>In a Jupyter environment, please rerun this cell to show the HTML representation or trust the notebook. <br />On GitHub, the HTML representation is unable to render, please try loading this page with nbviewer.org.</b></div><div class=\"sk-container\" hidden><div class=\"sk-item\"><div class=\"sk-estimator sk-toggleable\"><input class=\"sk-toggleable__control sk-hidden--visually\" id=\"sk-estimator-id-7\" type=\"checkbox\" checked><label for=\"sk-estimator-id-7\" class=\"sk-toggleable__label sk-toggleable__label-arrow\">RandomForestClassifier</label><div class=\"sk-toggleable__content\"><pre>RandomForestClassifier(bootstrap=False, max_depth=110)</pre></div></div></div></div></div>"
            ]
          },
          "metadata": {},
          "execution_count": 60
        }
      ]
    },
    {
      "cell_type": "code",
      "source": [
        "# creating and testing a random forest model with PCA and tuned hyperparameters\n",
        "rf_tuned = RandomForestClassifier(random_state = 42,\n",
        "                                  max_features = \"auto\",\n",
        "                                  max_depth = 100,\n",
        "                                  n_estimators = 500)\n",
        "# creating a pipeline using the scaler and preprocessor\n",
        "rf_pipe_tuned = make_pipeline(pca_processor, rf_tuned)\n",
        "\n",
        "rf_pipe_tuned.fit(X_train, y_train)\n",
        "\n",
        "rf_train_score_tuned = rf_pipe_tuned.score(X_train, y_train)\n",
        "rf_test_score_tuned = rf_pipe_tuned.score(X_test, y_test)\n",
        "print(f\"Train score: {rf_train_score_tuned}\")\n",
        "print(f\"Test score: {rf_test_score_tuned}\")"
      ],
      "metadata": {
        "colab": {
          "base_uri": "https://localhost:8080/"
        },
        "id": "vuKsfPznOmRO",
        "outputId": "5309598d-9875-4c42-ac2b-3cf9c9915a82"
      },
      "execution_count": 61,
      "outputs": [
        {
          "output_type": "stream",
          "name": "stdout",
          "text": [
            "Train score: 0.9584540712836859\n",
            "Test score: 0.7817016190372704\n"
          ]
        }
      ]
    },
    {
      "cell_type": "code",
      "source": [
        "rf_preds_tuned = rf_pipe_tuned.predict(X_test)\n",
        "print(classification_report(rf_preds_tuned, y_test))"
      ],
      "metadata": {
        "colab": {
          "base_uri": "https://localhost:8080/"
        },
        "id": "J7_o0-OYOogk",
        "outputId": "d4f9666f-663a-4738-af38-634b7d21affa"
      },
      "execution_count": 62,
      "outputs": [
        {
          "output_type": "stream",
          "name": "stdout",
          "text": [
            "              precision    recall  f1-score   support\n",
            "\n",
            "       <=50K       0.87      0.85      0.86      7246\n",
            "        >50K       0.49      0.54      0.51      1957\n",
            "\n",
            "    accuracy                           0.78      9203\n",
            "   macro avg       0.68      0.69      0.69      9203\n",
            "weighted avg       0.79      0.78      0.79      9203\n",
            "\n"
          ]
        }
      ]
    },
    {
      "cell_type": "code",
      "source": [
        "# generating a confusion matrix of the tuned random forest model\n",
        "cm = confusion_matrix(y_test.values, rf_preds_tuned)\n",
        "cm_df = pd.DataFrame(cm)\n",
        "ConfusionMatrixDisplay.from_predictions(y_test, rf_preds_tuned, cmap = \"Greens\");"
      ],
      "metadata": {
        "colab": {
          "base_uri": "https://localhost:8080/",
          "height": 449
        },
        "id": "ofKvKT17Oqd7",
        "outputId": "44313baa-e88b-4700-a49a-3608d8db8901"
      },
      "execution_count": 63,
      "outputs": [
        {
          "output_type": "display_data",
          "data": {
            "text/plain": [
              "<Figure size 640x480 with 2 Axes>"
            ],
            "image/png": "[encoded data removed]"
          },
          "metadata": {}
        }
      ]
    },
    {
      "cell_type": "code",
      "source": [
        "# printing the predicted number of income results from the tuned random forest model\n",
        "unique, counts = np.unique(rf_preds_tuned, return_counts=True)\n",
        "print(np.asarray((unique, counts)).T)"
      ],
      "metadata": {
        "colab": {
          "base_uri": "https://localhost:8080/"
        },
        "id": "IZD66_4HOwQB",
        "outputId": "7d9f8368-7657-4d32-b429-878dcfc45801"
      },
      "execution_count": 64,
      "outputs": [
        {
          "output_type": "stream",
          "name": "stdout",
          "text": [
            "[['<=50K' 7246]\n",
            " ['>50K' 1957]]\n"
          ]
        }
      ]
    },
    {
      "cell_type": "markdown",
      "source": [
        "## Gradient Boosting Model"
      ],
      "metadata": {
        "id": "POI39nflPFQT"
      }
    },
    {
      "cell_type": "code",
      "source": [
        "# Instantiate and fit gradient boosting classifier\n",
        "gbc = GradientBoostingClassifier()\n",
        "\n",
        "gbc_pipe = make_pipeline(preprocessed_df, gbc)\n",
        "\n",
        "gbc_pipe.fit(X_train, y_train)\n",
        "\n",
        "gbc_train_score = gbc_pipe.score(X_train, y_train)\n",
        "gbc_test_score = gbc_pipe.score(X_test, y_test)\n",
        "print(f\"Train score: {gbc_train_score}\")\n",
        "print(f\"Test score: {gbc_test_score}\")"
      ],
      "metadata": {
        "colab": {
          "base_uri": "https://localhost:8080/"
        },
        "id": "QZlxUa9SQgh_",
        "outputId": "a5c4d56e-08c1-4985-8e45-97f1f099c75c"
      },
      "execution_count": 65,
      "outputs": [
        {
          "output_type": "stream",
          "name": "stdout",
          "text": [
            "Train score: 0.829723268617792\n",
            "Test score: 0.8238617842008041\n"
          ]
        }
      ]
    },
    {
      "cell_type": "code",
      "source": [
        "gbc_preds = gbc_pipe.predict(X_test)\n",
        "print(classification_report(gbc_preds, y_test))"
      ],
      "metadata": {
        "colab": {
          "base_uri": "https://localhost:8080/"
        },
        "id": "ccETj5twQkDh",
        "outputId": "cc2c492b-e717-4bd0-d256-7a34acea6156"
      },
      "execution_count": 66,
      "outputs": [
        {
          "output_type": "stream",
          "name": "stdout",
          "text": [
            "              precision    recall  f1-score   support\n",
            "\n",
            "       <=50K       0.92      0.86      0.89      7556\n",
            "        >50K       0.51      0.67      0.58      1647\n",
            "\n",
            "    accuracy                           0.82      9203\n",
            "   macro avg       0.71      0.76      0.73      9203\n",
            "weighted avg       0.85      0.82      0.83      9203\n",
            "\n"
          ]
        }
      ]
    },
    {
      "cell_type": "code",
      "source": [
        "# generating a confusion matrix of the gradient boosting model\n",
        "cm = confusion_matrix(y_test.values, gbc_preds)\n",
        "cm_df = pd.DataFrame(cm)\n",
        "ConfusionMatrixDisplay.from_predictions(y_test, gbc_preds, cmap = \"Greens\");"
      ],
      "metadata": {
        "colab": {
          "base_uri": "https://localhost:8080/",
          "height": 449
        },
        "id": "OXjmwA8wQoSt",
        "outputId": "c46c842f-6e47-4bb3-914d-afe856035bc5"
      },
      "execution_count": 67,
      "outputs": [
        {
          "output_type": "display_data",
          "data": {
            "text/plain": [
              "<Figure size 640x480 with 2 Axes>"
            ],
            "image/png": "[encoded data removed]"
          },
          "metadata": {}
        }
      ]
    },
    {
      "cell_type": "code",
      "source": [
        "# printing the predicted number of income results from the gradient boosting model\n",
        "unique, counts = np.unique(gbc_preds, return_counts=True)\n",
        "print(np.asarray((unique, counts)).T)"
      ],
      "metadata": {
        "colab": {
          "base_uri": "https://localhost:8080/"
        },
        "id": "1Hs_iN-eQtXD",
        "outputId": "76681b8f-a84e-4d65-b883-b42d3f070ab9"
      },
      "execution_count": 68,
      "outputs": [
        {
          "output_type": "stream",
          "name": "stdout",
          "text": [
            "[['<=50K' 7556]\n",
            " ['>50K' 1647]]\n"
          ]
        }
      ]
    },
    {
      "cell_type": "code",
      "source": [
        "# checking the gradient boosting hyperparameters\n",
        "gbc.get_params()"
      ],
      "metadata": {
        "colab": {
          "base_uri": "https://localhost:8080/"
        },
        "id": "Wnn07-nlQwgE",
        "outputId": "1b0283a3-8597-45b5-d52d-3c3422121fec"
      },
      "execution_count": 69,
      "outputs": [
        {
          "output_type": "execute_result",
          "data": {
            "text/plain": [
              "{'ccp_alpha': 0.0,\n",
              " 'criterion': 'friedman_mse',\n",
              " 'init': None,\n",
              " 'learning_rate': 0.1,\n",
              " 'loss': 'log_loss',\n",
              " 'max_depth': 3,\n",
              " 'max_features': None,\n",
              " 'max_leaf_nodes': None,\n",
              " 'min_impurity_decrease': 0.0,\n",
              " 'min_samples_leaf': 1,\n",
              " 'min_samples_split': 2,\n",
              " 'min_weight_fraction_leaf': 0.0,\n",
              " 'n_estimators': 100,\n",
              " 'n_iter_no_change': None,\n",
              " 'random_state': None,\n",
              " 'subsample': 1.0,\n",
              " 'tol': 0.0001,\n",
              " 'validation_fraction': 0.1,\n",
              " 'verbose': 0,\n",
              " 'warm_start': False}"
            ]
          },
          "metadata": {},
          "execution_count": 69
        }
      ]
    },
    {
      "cell_type": "code",
      "source": [
        "# gradient boosting parameter grid\n",
        "gbc_param_grid = {\"max_depth\" : [10, 80, 100, 110, None],\n",
        "                 'min_samples_leaf': [1, 2, 4]}"
      ],
      "metadata": {
        "id": "lrmRdiuhQzUI"
      },
      "execution_count": 70,
      "outputs": []
    },
    {
      "cell_type": "code",
      "source": [
        "# generating the best hyperparameters from the gradient boosting parameter grid\n",
        "base_estimator = GradientBoostingClassifier()\n",
        "X, y = make_classification(n_samples=1000)\n",
        "sh = HalvingGridSearchCV(base_estimator, gbc_param_grid, cv=5,\n",
        "                         factor=2).fit(X, y)\n",
        "sh.best_estimator_"
      ],
      "metadata": {
        "colab": {
          "base_uri": "https://localhost:8080/",
          "height": 74
        },
        "id": "9qQd7NowQ01D",
        "outputId": "ee2dd68c-803d-4bcc-ee9c-b69966e50d08"
      },
      "execution_count": 71,
      "outputs": [
        {
          "output_type": "execute_result",
          "data": {
            "text/plain": [
              "GradientBoostingClassifier(max_depth=10, min_samples_leaf=4)"
            ],
            "text/html": [
              "<style>#sk-container-id-4 {color: black;background-color: white;}#sk-container-id-4 pre{padding: 0;}#sk-container-id-4 div.sk-toggleable {background-color: white;}#sk-container-id-4 label.sk-toggleable__label {cursor: pointer;display: block;width: 100%;margin-bottom: 0;padding: 0.3em;box-sizing: border-box;text-align: center;}#sk-container-id-4 label.sk-toggleable__label-arrow:before {content: \"▸\";float: left;margin-right: 0.25em;color: #696969;}#sk-container-id-4 label.sk-toggleable__label-arrow:hover:before {color: black;}#sk-container-id-4 div.sk-estimator:hover label.sk-toggleable__label-arrow:before {color: black;}#sk-container-id-4 div.sk-toggleable__content {max-height: 0;max-width: 0;overflow: hidden;text-align: left;background-color: #f0f8ff;}#sk-container-id-4 div.sk-toggleable__content pre {margin: 0.2em;color: black;border-radius: 0.25em;background-color: #f0f8ff;}#sk-container-id-4 input.sk-toggleable__control:checked~div.sk-toggleable__content {max-height: 200px;max-width: 100%;overflow: auto;}#sk-container-id-4 input.sk-toggleable__control:checked~label.sk-toggleable__label-arrow:before {content: \"▾\";}#sk-container-id-4 div.sk-estimator input.sk-toggleable__control:checked~label.sk-toggleable__label {background-color: #d4ebff;}#sk-container-id-4 div.sk-label input.sk-toggleable__control:checked~label.sk-toggleable__label {background-color: #d4ebff;}#sk-container-id-4 input.sk-hidden--visually {border: 0;clip: rect(1px 1px 1px 1px);clip: rect(1px, 1px, 1px, 1px);height: 1px;margin: -1px;overflow: hidden;padding: 0;position: absolute;width: 1px;}#sk-container-id-4 div.sk-estimator {font-family: monospace;background-color: #f0f8ff;border: 1px dotted black;border-radius: 0.25em;box-sizing: border-box;margin-bottom: 0.5em;}#sk-container-id-4 div.sk-estimator:hover {background-color: #d4ebff;}#sk-container-id-4 div.sk-parallel-item::after {content: \"\";width: 100%;border-bottom: 1px solid gray;flex-grow: 1;}#sk-container-id-4 div.sk-label:hover label.sk-toggleable__label {background-color: #d4ebff;}#sk-container-id-4 div.sk-serial::before {content: \"\";position: absolute;border-left: 1px solid gray;box-sizing: border-box;top: 0;bottom: 0;left: 50%;z-index: 0;}#sk-container-id-4 div.sk-serial {display: flex;flex-direction: column;align-items: center;background-color: white;padding-right: 0.2em;padding-left: 0.2em;position: relative;}#sk-container-id-4 div.sk-item {position: relative;z-index: 1;}#sk-container-id-4 div.sk-parallel {display: flex;align-items: stretch;justify-content: center;background-color: white;position: relative;}#sk-container-id-4 div.sk-item::before, #sk-container-id-4 div.sk-parallel-item::before {content: \"\";position: absolute;border-left: 1px solid gray;box-sizing: border-box;top: 0;bottom: 0;left: 50%;z-index: -1;}#sk-container-id-4 div.sk-parallel-item {display: flex;flex-direction: column;z-index: 1;position: relative;background-color: white;}#sk-container-id-4 div.sk-parallel-item:first-child::after {align-self: flex-end;width: 50%;}#sk-container-id-4 div.sk-parallel-item:last-child::after {align-self: flex-start;width: 50%;}#sk-container-id-4 div.sk-parallel-item:only-child::after {width: 0;}#sk-container-id-4 div.sk-dashed-wrapped {border: 1px dashed gray;margin: 0 0.4em 0.5em 0.4em;box-sizing: border-box;padding-bottom: 0.4em;background-color: white;}#sk-container-id-4 div.sk-label label {font-family: monospace;font-weight: bold;display: inline-block;line-height: 1.2em;}#sk-container-id-4 div.sk-label-container {text-align: center;}#sk-container-id-4 div.sk-container {/* jupyter's `normalize.less` sets `[hidden] { display: none; }` but bootstrap.min.css set `[hidden] { display: none !important; }` so we also need the `!important` here to be able to override the default hidden behavior on the sphinx rendered scikit-learn.org. See: https://github.com/scikit-learn/scikit-learn/issues/21755 */display: inline-block !important;position: relative;}#sk-container-id-4 div.sk-text-repr-fallback {display: none;}</style><div id=\"sk-container-id-4\" class=\"sk-top-container\"><div class=\"sk-text-repr-fallback\"><pre>GradientBoostingClassifier(max_depth=10, min_samples_leaf=4)</pre><b>In a Jupyter environment, please rerun this cell to show the HTML representation or trust the notebook. <br />On GitHub, the HTML representation is unable to render, please try loading this page with nbviewer.org.</b></div><div class=\"sk-container\" hidden><div class=\"sk-item\"><div class=\"sk-estimator sk-toggleable\"><input class=\"sk-toggleable__control sk-hidden--visually\" id=\"sk-estimator-id-8\" type=\"checkbox\" checked><label for=\"sk-estimator-id-8\" class=\"sk-toggleable__label sk-toggleable__label-arrow\">GradientBoostingClassifier</label><div class=\"sk-toggleable__content\"><pre>GradientBoostingClassifier(max_depth=10, min_samples_leaf=4)</pre></div></div></div></div></div>"
            ]
          },
          "metadata": {},
          "execution_count": 71
        }
      ]
    },
    {
      "cell_type": "code",
      "source": [
        "# Instantiate and fit gradient boosting classifier with PCA and tuned hyperparameters\n",
        "gbc_tuned = GradientBoostingClassifier(max_depth = 100, min_samples_leaf = 4)\n",
        "\n",
        "gbc_pipe_tuned = make_pipeline(pca_processor, gbc_tuned)\n",
        "\n",
        "gbc_pipe_tuned.fit(X_train, y_train)\n",
        "\n",
        "gbc_train_score_tuned = gbc_pipe_tuned.score(X_train, y_train)\n",
        "gbc_test_score_tuned = gbc_pipe_tuned.score(X_test, y_test)\n",
        "print(f\"Train score: {gbc_train_score_tuned}\")\n",
        "print(f\"Test score: {gbc_test_score_tuned}\")"
      ],
      "metadata": {
        "colab": {
          "base_uri": "https://localhost:8080/"
        },
        "id": "VOo9WNHnQ3Mf",
        "outputId": "9ba18fe3-d3ca-47e3-91ba-02ffc27207c2"
      },
      "execution_count": 72,
      "outputs": [
        {
          "output_type": "stream",
          "name": "stdout",
          "text": [
            "Train score: 0.9584540712836859\n",
            "Test score: 0.7756166467456265\n"
          ]
        }
      ]
    },
    {
      "cell_type": "code",
      "source": [
        "gbc_preds_tuned = gbc_pipe_tuned.predict(X_test)\n",
        "print(classification_report(gbc_preds_tuned, y_test))"
      ],
      "metadata": {
        "colab": {
          "base_uri": "https://localhost:8080/"
        },
        "id": "cTdkO_YwQ49N",
        "outputId": "facb087c-0c09-41fb-c5fa-8033cdefaf07"
      },
      "execution_count": 73,
      "outputs": [
        {
          "output_type": "stream",
          "name": "stdout",
          "text": [
            "              precision    recall  f1-score   support\n",
            "\n",
            "       <=50K       0.86      0.85      0.85      7170\n",
            "        >50K       0.49      0.53      0.51      2033\n",
            "\n",
            "    accuracy                           0.78      9203\n",
            "   macro avg       0.68      0.69      0.68      9203\n",
            "weighted avg       0.78      0.78      0.78      9203\n",
            "\n"
          ]
        }
      ]
    },
    {
      "cell_type": "code",
      "source": [
        "# generating a confusion matrix of the tuned gradient boosting model\n",
        "cm = confusion_matrix(y_test.values, gbc_preds_tuned)\n",
        "cm_df = pd.DataFrame(cm)\n",
        "ConfusionMatrixDisplay.from_predictions(y_test, gbc_preds_tuned, cmap = \"Greens\");"
      ],
      "metadata": {
        "colab": {
          "base_uri": "https://localhost:8080/",
          "height": 450
        },
        "id": "T0Cnm7R3Q7FJ",
        "outputId": "a29a8e8f-ad48-47e5-a83f-dea8c9f5754c"
      },
      "execution_count": 74,
      "outputs": [
        {
          "output_type": "display_data",
          "data": {
            "text/plain": [
              "<Figure size 640x480 with 2 Axes>"
            ],
            "image/png": "[encoded data removed]"
          },
          "metadata": {}
        }
      ]
    },
    {
      "cell_type": "code",
      "source": [
        "unique, counts = np.unique(gbc_preds_tuned, return_counts=True)\n",
        "print(np.asarray((unique, counts)).T)"
      ],
      "metadata": {
        "colab": {
          "base_uri": "https://localhost:8080/"
        },
        "id": "77eWUUQSQ-t-",
        "outputId": "057e5049-baf7-4c02-c9df-4c65cfd0d931"
      },
      "execution_count": 75,
      "outputs": [
        {
          "output_type": "stream",
          "name": "stdout",
          "text": [
            "[['<=50K' 7170]\n",
            " ['>50K' 2033]]\n"
          ]
        }
      ]
    },
    {
      "cell_type": "markdown",
      "source": [
        "## PCA\n",
        "\n",
        "- \"Principal component analysis, or PCA, is a statistical procedure that allows you to summarize the information content in large data tables by means of a smaller set of “summary indices” that can be more easily visualized and analyzed.\""
      ],
      "metadata": {
        "id": "A8kGuTR1TG7K"
      }
    },
    {
      "cell_type": "code",
      "source": [
        "X = df.drop(['income'], axis=1)\n",
        "y = df['income']\n",
        "\n",
        "\n",
        "X_train, X_test, y_train, y_test = train_test_split(X, y, test_size = 0.3, random_state = 0)\n",
        "\n",
        "\n",
        "categorical = ['workclass', 'education', 'marital-status', 'occupation', 'relationship', 'gender', 'native-country']\n",
        "for feature in categorical:\n",
        "        le = preprocessing.LabelEncoder()\n",
        "        X_train[feature] = le.fit_transform(X_train[feature])\n",
        "        X_test[feature] = le.transform(X_test[feature])\n",
        "\n",
        "\n",
        "X_train = pd.DataFrame(scaler.fit_transform(X_train), columns = X.columns)\n",
        "\n",
        "\n",
        "pca= PCA()\n",
        "pca.fit(X_train)\n",
        "cumsum = np.cumsum(pca.explained_variance_ratio_)\n",
        "dim = np.argmax(cumsum >= 0.90) + 1\n",
        "print('The number of dimensions required to preserve 90% of variance is',dim)"
      ],
      "metadata": {
        "colab": {
          "base_uri": "https://localhost:8080/"
        },
        "id": "WhVTK722hdOZ",
        "outputId": "fbffbe27-a3c5-4a3b-c24c-88e0f7331f44"
      },
      "execution_count": 76,
      "outputs": [
        {
          "output_type": "stream",
          "name": "stdout",
          "text": [
            "The number of dimensions required to preserve 90% of variance is 8\n"
          ]
        }
      ]
    },
    {
      "cell_type": "code",
      "source": [
        "from sklearn.decomposition import PCA\n",
        "pca = PCA()\n",
        "X_train = pca.fit_transform(X_train)\n",
        "pca.explained_variance_ratio_"
      ],
      "metadata": {
        "colab": {
          "base_uri": "https://localhost:8080/"
        },
        "id": "7cPOAuviTNob",
        "outputId": "07720ce4-4bf1-46e9-99e5-c9b9774b0488"
      },
      "execution_count": 77,
      "outputs": [
        {
          "output_type": "execute_result",
          "data": {
            "text/plain": [
              "array([0.23810316, 0.12872745, 0.11639601, 0.10987966, 0.10373374,\n",
              "       0.09942372, 0.09123369, 0.06909038, 0.0434122 ])"
            ]
          },
          "metadata": {},
          "execution_count": 77
        }
      ]
    },
    {
      "cell_type": "code",
      "source": [
        "# Make pipeline with scaler and PCA covering 95 percent of variance\n",
        "transformer = make_pipeline(StandardScaler(), PCA(n_components=.95))"
      ],
      "metadata": {
        "id": "XUfFfxKQTRXS"
      },
      "execution_count": 78,
      "outputs": []
    },
    {
      "cell_type": "code",
      "source": [
        "df.columns"
      ],
      "metadata": {
        "colab": {
          "base_uri": "https://localhost:8080/"
        },
        "id": "PCKey-R_TTK2",
        "outputId": "e6f0bf07-91f2-4a0d-be81-6087248c6ec1"
      },
      "execution_count": 79,
      "outputs": [
        {
          "output_type": "execute_result",
          "data": {
            "text/plain": [
              "Index(['age', 'workclass', 'education', 'marital-status', 'occupation',\n",
              "       'relationship', 'gender', 'hours-per-week', 'native-country', 'income'],\n",
              "      dtype='object')"
            ]
          },
          "metadata": {},
          "execution_count": 79
        }
      ]
    },
    {
      "cell_type": "code",
      "source": [
        "X = df.drop(['income'], axis=1)\n",
        "y = df['income']\n",
        "\n",
        "\n",
        "X_train, X_test, y_train, y_test = train_test_split(X, y, test_size = 0.3, random_state = 0)\n",
        "\n",
        "\n",
        "categorical = ['workclass', 'education', 'marital-status', 'occupation', 'relationship', 'gender', 'native-country']\n",
        "for feature in categorical:\n",
        "        le = preprocessing.LabelEncoder()\n",
        "        X_train[feature] = le.fit_transform(X_train[feature])\n",
        "        X_test[feature] = le.transform(X_test[feature])\n",
        "\n",
        "\n",
        "X_train = pd.DataFrame(scaler.fit_transform(X_train), columns = X.columns)\n",
        "\n",
        "\n",
        "pca= PCA()\n",
        "pca.fit(X_train)\n",
        "cumsum = np.cumsum(pca.explained_variance_ratio_)\n",
        "dim = np.argmax(cumsum >= 0.90) + 1\n",
        "print('The number of dimensions required to preserve 90% of variance is',dim)"
      ],
      "metadata": {
        "colab": {
          "base_uri": "https://localhost:8080/"
        },
        "id": "7G3ft-3yTWIn",
        "outputId": "59bc0353-cf41-46aa-bf88-8b108bcb0a3a"
      },
      "execution_count": 80,
      "outputs": [
        {
          "output_type": "stream",
          "name": "stdout",
          "text": [
            "The number of dimensions required to preserve 90% of variance is 8\n"
          ]
        }
      ]
    },
    {
      "cell_type": "code",
      "source": [
        "# Let's draw it out visually.\n",
        "plt.figure(figsize=(8,6))\n",
        "plt.plot(np.cumsum(pca.explained_variance_ratio_))\n",
        "plt.xlim(0,14,1)\n",
        "plt.xlabel('Number of components')\n",
        "plt.ylabel('Cumulative explained variance')\n",
        "plt.show()"
      ],
      "metadata": {
        "colab": {
          "base_uri": "https://localhost:8080/",
          "height": 542
        },
        "id": "I76F1h6qUJUw",
        "outputId": "1d9d27fe-a299-4b0a-8e73-7336b37fca59"
      },
      "execution_count": 81,
      "outputs": [
        {
          "output_type": "display_data",
          "data": {
            "text/plain": [
              "<Figure size 800x600 with 1 Axes>"
            ],
            "image/png": "[encoded data removed]"
          },
          "metadata": {}
        }
      ]
    },
    {
      "cell_type": "markdown",
      "source": [
        "### The above plot shows that almost 90% of variance is explained by the first 2 components."
      ],
      "metadata": {
        "id": "4Dof7h4IUN9m"
      }
    },
    {
      "cell_type": "code",
      "source": [
        "%%time\n",
        "#instantiate knn model\n",
        "pca_model = KNeighborsClassifier()\n",
        "#make pipeline with transformer containing scaler and PCA with knn\n",
        "pca_model_pipe = make_pipeline(transformer, pca_model)\n",
        "#fit the model\n",
        "pca_model_pipe.fit(X_train, y_train)\n",
        "# get predictions for train\n",
        "preds_pca_train = pca_model_pipe.predict(X_train)\n",
        "# get prediction for test\n",
        "preds_pca_test = pca_model_pipe.predict(X_test)\n",
        "# get accuracy\n",
        "train_accuracy = accuracy_score(y_train, preds_pca_train)\n",
        "test_accuracy = accuracy_score(y_test, preds_pca_test)\n",
        "print(f'PCA Model Train Accuracy: {train_accuracy}')\n",
        "print(f'PCA Model Test Accuracy: {test_accuracy}')"
      ],
      "metadata": {
        "colab": {
          "base_uri": "https://localhost:8080/"
        },
        "id": "Z0lFKr4JUP2F",
        "outputId": "b872acdd-1a0d-4938-a1eb-ebdaf4614895"
      },
      "execution_count": 82,
      "outputs": [
        {
          "output_type": "stream",
          "name": "stdout",
          "text": [
            "PCA Model Train Accuracy: 0.8533395428260954\n",
            "PCA Model Test Accuracy: 0.7270916334661355\n",
            "CPU times: user 3.62 s, sys: 133 ms, total: 3.75 s\n",
            "Wall time: 3.78 s\n"
          ]
        }
      ]
    },
    {
      "cell_type": "code",
      "source": [
        "%%time\n",
        "#make pipeline with scaler and knn model without PCA\n",
        "#instantiate knn\n",
        "no_pca_model = KNeighborsClassifier()\n",
        "#make pipeline with scaler and knn\n",
        "no_pca_model_pipe = make_pipeline(StandardScaler(), no_pca_model)\n",
        "#fit model\n",
        "no_pca_model_pipe.fit(X_train, y_train)\n",
        "# get predictions for train\n",
        "preds_no_pca_train = no_pca_model_pipe.predict(X_train)\n",
        "# get prediction for test\n",
        "preds_no_pca_test = no_pca_model_pipe.predict(X_test)\n",
        "# get accuracy\n",
        "train_accuracy = accuracy_score(y_train, preds_no_pca_train)\n",
        "test_accuracy = accuracy_score(y_test, preds_no_pca_test)\n",
        "print(f'Non PCA Train Accuracy: {train_accuracy}')\n",
        "print(f'Non PCA Test Accuracy: {test_accuracy}')"
      ],
      "metadata": {
        "colab": {
          "base_uri": "https://localhost:8080/"
        },
        "id": "GNaLJnfYUSA6",
        "outputId": "6d6e55a9-2869-41f5-fce7-47e4450b1578"
      },
      "execution_count": 93,
      "outputs": [
        {
          "output_type": "stream",
          "name": "stdout",
          "text": [
            "Non PCA Train Accuracy: 0.8537276361237242\n",
            "Non PCA Test Accuracy: 0.7252806954002173\n",
            "CPU times: user 3.85 s, sys: 38.9 ms, total: 3.89 s\n",
            "Wall time: 3.94 s\n"
          ]
        }
      ]
    },
    {
      "cell_type": "code",
      "source": [
        "knn_tuned = KNeighborsClassifier(n_neighbors = 8,\n",
        "                                 leaf_size = 50,\n",
        "                                 metric = \"euclidean\",\n",
        "                                 weights = \"distance\")\n",
        "knn_pipe_tuned = make_pipeline(pca_processor, knn_tuned)\n",
        "\n",
        "knn_pipe_tuned.fit(X_train, y_train)\n",
        "knn_pipe_tuned.predict(X_test)\n",
        "\n",
        "knn_train_score_tuned = knn_pipe_tuned.score(X_train, y_train)\n",
        "knn_test_score_tuned = knn_pipe_tuned.score(X_test, y_test)\n",
        "print(f\"Train score: {knn_train_score_tuned}\")\n",
        "print(f\"Test score: {knn_test_score_tuned}\")"
      ],
      "metadata": {
        "colab": {
          "base_uri": "https://localhost:8080/"
        },
        "id": "LSjsyiEYl9Za",
        "outputId": "f837b815-82dd-4078-cb4a-179f5cdf1310"
      },
      "execution_count": 94,
      "outputs": [
        {
          "output_type": "stream",
          "name": "stdout",
          "text": [
            "Train score: 0.9600651996740016\n",
            "Test score: 0.7379572618616443\n"
          ]
        }
      ]
    },
    {
      "cell_type": "code",
      "source": [
        "# Instantiate and fit gradient boosting classifier with PCA and tuned hyperparameters\n",
        "gbc_tuned = GradientBoostingClassifier(max_depth = 100, min_samples_leaf = 4)\n",
        "\n",
        "gbc_pipe_tuned = make_pipeline(pca_processor, gbc_tuned)\n",
        "\n",
        "gbc_pipe_tuned.fit(X_train, y_train)\n",
        "\n",
        "gbc_train_score_tuned = gbc_pipe_tuned.score(X_train, y_train)\n",
        "gbc_test_score_tuned = gbc_pipe_tuned.score(X_test, y_test)\n",
        "print(f\"Train score: {gbc_train_score_tuned}\")\n",
        "print(f\"Test score: {gbc_test_score_tuned}\")"
      ],
      "metadata": {
        "colab": {
          "base_uri": "https://localhost:8080/"
        },
        "id": "1Pru0_sBmiI8",
        "outputId": "aee41664-8106-44a1-c7c0-75bf77e1937f"
      },
      "execution_count": 98,
      "outputs": [
        {
          "output_type": "stream",
          "name": "stdout",
          "text": [
            "Train score: 0.9600651996740016\n",
            "Test score: 0.7535313292285404\n"
          ]
        }
      ]
    },
    {
      "cell_type": "markdown",
      "source": [
        "## Compare the Production Models"
      ],
      "metadata": {
        "id": "LvhlfLmmF6A2"
      }
    },
    {
      "cell_type": "code",
      "source": [
        "# observing the value counts of the original target in order to compare them to the printed results\n",
        "df[\"income\"].value_counts()"
      ],
      "metadata": {
        "colab": {
          "base_uri": "https://localhost:8080/"
        },
        "id": "VQ_sGiX7lL88",
        "outputId": "49072ad6-5156-4506-a8df-0c69bd5c923a"
      },
      "execution_count": 99,
      "outputs": [
        {
          "output_type": "execute_result",
          "data": {
            "text/plain": [
              "<=50K    27846\n",
              ">50K      8965\n",
              "Name: income, dtype: int64"
            ]
          },
          "metadata": {},
          "execution_count": 99
        }
      ]
    },
    {
      "cell_type": "code",
      "source": [
        "# KNN again\n",
        "knn_preds_tuned = knn_pipe_tuned.predict(X_test)\n",
        "print(classification_report(knn_preds_tuned, y_test))"
      ],
      "metadata": {
        "colab": {
          "base_uri": "https://localhost:8080/"
        },
        "id": "MWSW-Mx0VarD",
        "outputId": "cfb77d79-e978-414a-e935-c592cb4453d0"
      },
      "execution_count": 100,
      "outputs": [
        {
          "output_type": "stream",
          "name": "stdout",
          "text": [
            "              precision    recall  f1-score   support\n",
            "\n",
            "       <=50K       0.97      0.75      0.85     10800\n",
            "        >50K       0.01      0.11      0.02       244\n",
            "\n",
            "    accuracy                           0.74     11044\n",
            "   macro avg       0.49      0.43      0.43     11044\n",
            "weighted avg       0.95      0.74      0.83     11044\n",
            "\n"
          ]
        }
      ]
    },
    {
      "cell_type": "code",
      "source": [
        "# Gradient again\n",
        "gbc_preds_tuned = gbc_pipe_tuned.predict(X_test)\n",
        "print(classification_report(gbc_preds_tuned, y_test))"
      ],
      "metadata": {
        "colab": {
          "base_uri": "https://localhost:8080/"
        },
        "id": "l8-l9ZEzlgLt",
        "outputId": "14a71c2b-3f64-4a73-925a-934605a7b149"
      },
      "execution_count": 101,
      "outputs": [
        {
          "output_type": "stream",
          "name": "stdout",
          "text": [
            "              precision    recall  f1-score   support\n",
            "\n",
            "       <=50K       1.00      0.75      0.86     11028\n",
            "        >50K       0.00      0.00      0.00        16\n",
            "\n",
            "    accuracy                           0.75     11044\n",
            "   macro avg       0.50      0.38      0.43     11044\n",
            "weighted avg       1.00      0.75      0.86     11044\n",
            "\n"
          ]
        }
      ]
    },
    {
      "cell_type": "markdown",
      "source": [
        "- a) The KNN model that used PCA was very slightly less accurate on the test set.\n",
        "- b) The KNN model that did not use the PCA was also twice as long as the other model.\n",
        "- c) With the KNN  model, we see that the accuracy is at 92%. I am confident in this model to predict our future outcome."
      ],
      "metadata": {
        "id": "-LQvB5NnGBXX"
      }
    }
  ]
}